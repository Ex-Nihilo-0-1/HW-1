{
 "cells": [
  {
   "cell_type": "code",
   "execution_count": 275,
   "metadata": {},
   "outputs": [
    {
     "data": {
      "text/plain": [
       "0.4857142857142857"
      ]
     },
     "execution_count": 275,
     "metadata": {},
     "output_type": "execute_result"
    }
   ],
   "source": [
    "import parse\n",
    "import ID3\n",
    "import importlib\n",
    "import node\n",
    "from PrettyPrint import PrettyPrintTree\n",
    "\n",
    "train_examples = parse.parse(\"cars_train.data\")\n",
    "test_examples = parse.parse(\"cars_test.data\")\n",
    "valid_examples = parse.parse(\"cars_valid.data\")\n",
    "importlib.reload(ID3)\n",
    "importlib.reload(node)\n",
    "\n",
    "t = ID3.ID3(train_examples, 0)\n",
    "ID3.test(t, test_examples)\n",
    "\n",
    "\n"
   ]
  },
  {
   "cell_type": "code",
   "execution_count": 276,
   "metadata": {},
   "outputs": [
    {
     "name": "stdout",
     "output_type": "stream",
     "text": [
      "Pruned Accuracy =  0.5428571428571428 Best Accuracy =  0.5428571428571428\n",
      "Pruned Accuracy =  0.5428571428571428 Best Accuracy =  0.5428571428571428\n",
      "Pruned Accuracy =  0.5428571428571428 Best Accuracy =  0.5428571428571428\n",
      "Pruned Accuracy =  0.5428571428571428 Best Accuracy =  0.5428571428571428\n",
      "Pruned Accuracy =  0.5428571428571428 Best Accuracy =  0.5428571428571428\n",
      "Pruned Accuracy =  0.5428571428571428 Best Accuracy =  0.5428571428571428\n",
      "Pruned Accuracy =  0.5428571428571428 Best Accuracy =  0.5428571428571428\n",
      "Pruned Accuracy =  0.5428571428571428 Best Accuracy =  0.5428571428571428\n",
      "Pruned Accuracy =  0.5428571428571428 Best Accuracy =  0.5428571428571428\n",
      "Pruned Accuracy =  0.5428571428571428 Best Accuracy =  0.5428571428571428\n",
      "Pruned Accuracy =  0.5428571428571428 Best Accuracy =  0.5428571428571428\n",
      "Pruned Accuracy =  0.5428571428571428 Best Accuracy =  0.5428571428571428\n",
      "Pruned Accuracy =  0.5428571428571428 Best Accuracy =  0.5428571428571428\n",
      "Pruned Accuracy =  0.5428571428571428 Best Accuracy =  0.5428571428571428\n",
      "Pruned Accuracy =  0.5428571428571428 Best Accuracy =  0.5428571428571428\n",
      "Pruned Accuracy =  0.5428571428571428 Best Accuracy =  0.5428571428571428\n",
      "Pruned Accuracy =  0.5428571428571428 Best Accuracy =  0.5428571428571428\n",
      "Pruned Accuracy =  0.5428571428571428 Best Accuracy =  0.5428571428571428\n",
      "Pruned Accuracy =  0.5428571428571428 Best Accuracy =  0.5428571428571428\n",
      "Pruned Accuracy =  0.5428571428571428 Best Accuracy =  0.5428571428571428\n",
      "Pruned Accuracy =  0.45714285714285713 Best Accuracy =  0.5428571428571428\n",
      "Pruned Accuracy =  0.45714285714285713 Best Accuracy =  0.5428571428571428\n",
      "Pruned Accuracy =  0.5428571428571428 Best Accuracy =  0.5428571428571428\n",
      "Pruned Accuracy =  0.5428571428571428 Best Accuracy =  0.5428571428571428\n",
      "Pruned Accuracy =  0.5428571428571428 Best Accuracy =  0.5428571428571428\n",
      "Pruned Accuracy =  0.5428571428571428 Best Accuracy =  0.5428571428571428\n",
      "Pruned Accuracy =  0.5428571428571428 Best Accuracy =  0.5428571428571428\n",
      "Pruned Accuracy =  0.5428571428571428 Best Accuracy =  0.5428571428571428\n",
      "Pruned Accuracy =  0.5428571428571428 Best Accuracy =  0.5428571428571428\n",
      "Pruned Accuracy =  0.5428571428571428 Best Accuracy =  0.5428571428571428\n",
      "Pruned Accuracy =  0.5428571428571428 Best Accuracy =  0.5428571428571428\n",
      "Pruned Accuracy =  0.5428571428571428 Best Accuracy =  0.5428571428571428\n",
      "Pruned Accuracy =  0.5428571428571428 Best Accuracy =  0.5428571428571428\n",
      "Pruned Accuracy =  0.5428571428571428 Best Accuracy =  0.5428571428571428\n",
      "Pruned Accuracy =  0.5428571428571428 Best Accuracy =  0.5428571428571428\n",
      "Pruned Accuracy =  0.5428571428571428 Best Accuracy =  0.5428571428571428\n",
      "Pruned Accuracy =  0.5428571428571428 Best Accuracy =  0.5428571428571428\n",
      "Pruned Accuracy =  0.5428571428571428 Best Accuracy =  0.5428571428571428\n",
      "Pruned Accuracy =  0.5428571428571428 Best Accuracy =  0.5428571428571428\n",
      "Pruned Accuracy =  0.5428571428571428 Best Accuracy =  0.5428571428571428\n",
      "Pruned Accuracy =  0.5142857142857142 Best Accuracy =  0.5428571428571428\n",
      "Pruned Accuracy =  0.4857142857142857 Best Accuracy =  0.5428571428571428\n",
      "Pruned Accuracy =  0.4857142857142857 Best Accuracy =  0.5428571428571428\n",
      "Pruned Accuracy =  0.5428571428571428 Best Accuracy =  0.5428571428571428\n",
      "Pruned Accuracy =  0.5428571428571428 Best Accuracy =  0.5428571428571428\n",
      "Pruned Accuracy =  0.5428571428571428 Best Accuracy =  0.5428571428571428\n",
      "Pruned Accuracy =  0.5142857142857142 Best Accuracy =  0.5428571428571428\n",
      "Pruned Accuracy =  0.4857142857142857 Best Accuracy =  0.5428571428571428\n",
      "Pruned Accuracy =  0.5428571428571428 Best Accuracy =  0.5428571428571428\n",
      "Pruned Accuracy =  0.5428571428571428 Best Accuracy =  0.5428571428571428\n",
      "Pruned Accuracy =  0.5428571428571428 Best Accuracy =  0.5428571428571428\n",
      "Pruned Accuracy =  0.5428571428571428 Best Accuracy =  0.5428571428571428\n",
      "Pruned Accuracy =  0.5428571428571428 Best Accuracy =  0.5428571428571428\n",
      "Pruned Accuracy =  0.5428571428571428 Best Accuracy =  0.5428571428571428\n",
      "Pruned Accuracy =  0.5428571428571428 Best Accuracy =  0.5428571428571428\n",
      "Pruned Accuracy =  0.4857142857142857 Best Accuracy =  0.5428571428571428\n",
      "Pruned Accuracy =  0.5428571428571428 Best Accuracy =  0.5428571428571428\n",
      "Pruned Accuracy =  0.5428571428571428 Best Accuracy =  0.5428571428571428\n",
      "Pruned Accuracy =  0.5428571428571428 Best Accuracy =  0.5428571428571428\n",
      "Pruned Accuracy =  0.5142857142857142 Best Accuracy =  0.5428571428571428\n",
      "Pruned Accuracy =  0.34285714285714286 Best Accuracy =  0.5428571428571428\n",
      "Pruned Accuracy =  0.5428571428571428 Best Accuracy =  0.5428571428571428\n",
      "Pruned Accuracy =  0.5428571428571428 Best Accuracy =  0.5428571428571428\n",
      "Pruned Accuracy =  0.5428571428571428 Best Accuracy =  0.5428571428571428\n",
      "Pruned Accuracy =  0.5428571428571428 Best Accuracy =  0.5428571428571428\n",
      "Pruned Accuracy =  0.5428571428571428 Best Accuracy =  0.5428571428571428\n",
      "Pruned Accuracy =  0.5428571428571428 Best Accuracy =  0.5428571428571428\n",
      "Pruned Accuracy =  0.5428571428571428 Best Accuracy =  0.5428571428571428\n",
      "Pruned Accuracy =  0.5428571428571428 Best Accuracy =  0.5428571428571428\n",
      "Pruned Accuracy =  0.5428571428571428 Best Accuracy =  0.5428571428571428\n",
      "Pruned Accuracy =  0.5428571428571428 Best Accuracy =  0.5428571428571428\n",
      "Pruned Accuracy =  0.5428571428571428 Best Accuracy =  0.5428571428571428\n",
      "Pruned Accuracy =  0.5428571428571428 Best Accuracy =  0.5428571428571428\n",
      "Pruned Accuracy =  0.5428571428571428 Best Accuracy =  0.5428571428571428\n",
      "Pruned Accuracy =  0.5428571428571428 Best Accuracy =  0.5428571428571428\n",
      "Pruned Accuracy =  0.5428571428571428 Best Accuracy =  0.5428571428571428\n",
      "Pruned Accuracy =  0.5428571428571428 Best Accuracy =  0.5428571428571428\n",
      "Pruned Accuracy =  0.5428571428571428 Best Accuracy =  0.5428571428571428\n",
      "Pruned Accuracy =  0.34285714285714286 Best Accuracy =  0.5428571428571428\n",
      "Pruned Accuracy =  0.0 Best Accuracy =  0.5428571428571428\n"
     ]
    },
    {
     "data": {
      "text/plain": [
       "0.3142857142857143"
      ]
     },
     "execution_count": 276,
     "metadata": {},
     "output_type": "execute_result"
    }
   ],
   "source": [
    "ID3.prune(t, valid_examples)\n",
    "ID3.test(t, test_examples)"
   ]
  },
  {
   "cell_type": "code",
   "execution_count": 277,
   "metadata": {},
   "outputs": [
    {
     "name": "stdout",
     "output_type": "stream",
     "text": [
      "ID3 test 1 succeeded.\n",
      "ID3 test 2 succeeded.\n",
      "ID3 test 3-1 succeeded.\n",
      "ID3 test 3-2 succeeded.\n",
      "ID3 test 4-1 succeeded.\n",
      "ID3 test 4-2 succeeded.\n"
     ]
    }
   ],
   "source": [
    "import mini_auto_grader as mg\n",
    "mg.mini_grader()"
   ]
  },
  {
   "cell_type": "code",
   "execution_count": 278,
   "metadata": {},
   "outputs": [
    {
     "name": "stdout",
     "output_type": "stream",
     "text": [
      "ID3 test 1 succeeded.\n",
      "ID3 test 2 succeeded.\n",
      "ID3 test 3-1 succeeded.\n",
      "ID3 test 3-2 succeeded.\n",
      "ID3 test 4-1 succeeded.\n",
      "ID3 test 4-2 succeeded.\n"
     ]
    }
   ],
   "source": [
    "import unit_tests as ut\n",
    "mg.mini_grader()\n",
    "\n",
    "\n"
   ]
  },
  {
   "cell_type": "code",
   "execution_count": 279,
   "metadata": {},
   "outputs": [
    {
     "data": {
      "text/plain": [
       "35"
      ]
     },
     "execution_count": 279,
     "metadata": {},
     "output_type": "execute_result"
    }
   ],
   "source": [
    "len(set([1,2,3]))\n",
    "len(test_examples)"
   ]
  },
  {
   "cell_type": "code",
   "execution_count": 280,
   "metadata": {},
   "outputs": [
    {
     "data": {
      "text/plain": [
       "12"
      ]
     },
     "execution_count": 280,
     "metadata": {},
     "output_type": "execute_result"
    }
   ],
   "source": [
    "d = {'1':1, '2':2, '3': 9}\n",
    "sum(d.values())"
   ]
  }
 ],
 "metadata": {
  "kernelspec": {
   "display_name": "base",
   "language": "python",
   "name": "python3"
  },
  "language_info": {
   "codemirror_mode": {
    "name": "ipython",
    "version": 3
   },
   "file_extension": ".py",
   "mimetype": "text/x-python",
   "name": "python",
   "nbconvert_exporter": "python",
   "pygments_lexer": "ipython3",
   "version": "3.12.4"
  }
 },
 "nbformat": 4,
 "nbformat_minor": 2
}
