{
 "cells": [
  {
   "cell_type": "code",
   "execution_count": 1422,
   "metadata": {},
   "outputs": [],
   "source": [
    "import parse\n",
    "import ID3\n",
    "import importlib\n",
    "import node\n",
    "from PrettyPrint import PrettyPrintTree\n",
    "\n",
    "train_examples = parse.parse(\"cars_train.data\")\n",
    "test_examples = parse.parse(\"cars_test.data\")\n",
    "valid_examples = parse.parse(\"cars_valid.data\")\n",
    "importlib.reload(ID3)\n",
    "importlib.reload(node)\n",
    "\n",
    "t = ID3.ID3(train_examples, 0)\n",
    "\n",
    "pt = PrettyPrintTree(lambda x: list(x.children.values()), lambda x: str(x.label) + \"\\n\" + str(x.decision_label)+ \"\\n\" + str(list(x.children.keys())))\n",
    "\n",
    "\n"
   ]
  },
  {
   "cell_type": "code",
   "execution_count": 1423,
   "metadata": {},
   "outputs": [
    {
     "data": {
      "text/plain": [
       "(1.0, 0.8285714285714286, 0.7714285714285715)"
      ]
     },
     "execution_count": 1423,
     "metadata": {},
     "output_type": "execute_result"
    }
   ],
   "source": [
    "\n",
    "(ID3.test(t, train_examples), ID3.test(t, valid_examples), ID3.test(t, test_examples))"
   ]
  },
  {
   "cell_type": "code",
   "execution_count": 1424,
   "metadata": {},
   "outputs": [
    {
     "data": {
      "text/plain": [
       "(1.0, 0.8285714285714286, 0.7714285714285715)"
      ]
     },
     "execution_count": 1424,
     "metadata": {},
     "output_type": "execute_result"
    }
   ],
   "source": [
    "ID3.prune(t, train_examples)\n",
    "(ID3.test(t, train_examples), ID3.test(t, valid_examples), ID3.test(t, test_examples))\n"
   ]
  },
  {
   "cell_type": "code",
   "execution_count": 1425,
   "metadata": {},
   "outputs": [
    {
     "name": "stdout",
     "output_type": "stream",
     "text": [
      "ID3 test 1 succeeded.\n",
      "ID3 test 2 succeeded.\n",
      "ID3 test 3-1 succeeded.\n",
      "ID3 test 3-2 succeeded.\n",
      "ID3 test 4-1 succeeded.\n",
      "ID3 test 4-2 succeeded.\n"
     ]
    }
   ],
   "source": [
    "import mini_auto_grader as mg\n",
    "mg.mini_grader()"
   ]
  },
  {
   "cell_type": "code",
   "execution_count": 1426,
   "metadata": {},
   "outputs": [
    {
     "name": "stdout",
     "output_type": "stream",
     "text": [
      "ID3 test 1 succeeded.\n",
      "ID3 test 2 succeeded.\n",
      "ID3 test 3-1 succeeded.\n",
      "ID3 test 3-2 succeeded.\n",
      "ID3 test 4-1 succeeded.\n",
      "ID3 test 4-2 succeeded.\n"
     ]
    }
   ],
   "source": [
    "import unit_tests as ut\n",
    "mg.mini_grader()\n",
    "\n",
    "\n"
   ]
  },
  {
   "cell_type": "code",
   "execution_count": 1427,
   "metadata": {},
   "outputs": [
    {
     "data": {
      "text/plain": [
       "3"
      ]
     },
     "execution_count": 1427,
     "metadata": {},
     "output_type": "execute_result"
    }
   ],
   "source": [
    "len(set([1,2,3]))"
   ]
  }
 ],
 "metadata": {
  "kernelspec": {
   "display_name": "base",
   "language": "python",
   "name": "python3"
  },
  "language_info": {
   "codemirror_mode": {
    "name": "ipython",
    "version": 3
   },
   "file_extension": ".py",
   "mimetype": "text/x-python",
   "name": "python",
   "nbconvert_exporter": "python",
   "pygments_lexer": "ipython3",
   "version": "3.12.4"
  }
 },
 "nbformat": 4,
 "nbformat_minor": 2
}
