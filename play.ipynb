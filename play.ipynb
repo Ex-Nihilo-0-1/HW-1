{
 "cells": [
  {
   "cell_type": "code",
   "execution_count": 174,
   "metadata": {},
   "outputs": [
    {
     "name": "stdout",
     "output_type": "stream",
     "text": [
      "addingnougat1\n",
      "addingfruity0\n",
      "addingcrispedricewafer0\n",
      "addinghard0\n",
      "addingbar1\n",
      "addingpluribus0\n",
      "addingchocolate1\n",
      "addingcaramel1\n"
     ]
    },
    {
     "ename": "KeyError",
     "evalue": "'caramel'",
     "output_type": "error",
     "traceback": [
      "\u001b[0;31m---------------------------------------------------------------------------\u001b[0m",
      "\u001b[0;31mKeyError\u001b[0m                                  Traceback (most recent call last)",
      "Cell \u001b[0;32mIn[174], line 8\u001b[0m\n\u001b[1;32m      5\u001b[0m examples \u001b[38;5;241m=\u001b[39m parse\u001b[38;5;241m.\u001b[39mparse(\u001b[38;5;124m\"\u001b[39m\u001b[38;5;124mcandy.data\u001b[39m\u001b[38;5;124m\"\u001b[39m)\n\u001b[1;32m      6\u001b[0m importlib\u001b[38;5;241m.\u001b[39mreload(ID3)\n\u001b[0;32m----> 8\u001b[0m ID3\u001b[38;5;241m.\u001b[39mID3(examples,\u001b[38;5;241m0\u001b[39m)\n",
      "File \u001b[0;32m~/Library/CloudStorage/OneDrive-Personal/CS/Fall 2024/CS349/HW#1/ID3.py:88\u001b[0m, in \u001b[0;36mID3\u001b[0;34m(examples, default)\u001b[0m\n\u001b[1;32m      0\u001b[0m <Error retrieving source code with stack_data see ipython/ipython#13598>\n",
      "File \u001b[0;32m~/Library/CloudStorage/OneDrive-Personal/CS/Fall 2024/CS349/HW#1/ID3.py:88\u001b[0m, in \u001b[0;36mID3\u001b[0;34m(examples, default)\u001b[0m\n\u001b[1;32m      0\u001b[0m <Error retrieving source code with stack_data see ipython/ipython#13598>\n",
      "    \u001b[0;31m[... skipping similar frames: ID3 at line 88 (4 times)]\u001b[0m\n",
      "File \u001b[0;32m~/Library/CloudStorage/OneDrive-Personal/CS/Fall 2024/CS349/HW#1/ID3.py:88\u001b[0m, in \u001b[0;36mID3\u001b[0;34m(examples, default)\u001b[0m\n\u001b[1;32m      0\u001b[0m <Error retrieving source code with stack_data see ipython/ipython#13598>\n",
      "File \u001b[0;32m~/Library/CloudStorage/OneDrive-Personal/CS/Fall 2024/CS349/HW#1/ID3.py:79\u001b[0m, in \u001b[0;36mID3\u001b[0;34m(examples, default)\u001b[0m\n\u001b[1;32m      0\u001b[0m <Error retrieving source code with stack_data see ipython/ipython#13598>\n",
      "File \u001b[0;32m~/Library/CloudStorage/OneDrive-Personal/CS/Fall 2024/CS349/HW#1/ID3.py:21\u001b[0m, in \u001b[0;36mget_da\u001b[0;34m(a, value)\u001b[0m\n\u001b[1;32m     19\u001b[0m label = max(set(class), key = class.count)\n\u001b[1;32m     20\u001b[0m t.add_label(label)\n\u001b[0;32m---> 21\u001b[0m \n\u001b[1;32m     22\u001b[0m return t\n\u001b[1;32m     23\u001b[0m \n",
      "\u001b[0;31mKeyError\u001b[0m: 'caramel'"
     ]
    }
   ],
   "source": [
    "import parse\n",
    "import ID3\n",
    "import importlib\n",
    "\n",
    "examples = parse.parse(\"candy.data\")\n",
    "importlib.reload(ID3)\n",
    "\n",
    "ID3.ID3(examples,0)"
   ]
  },
  {
   "cell_type": "code",
   "execution_count": 141,
   "metadata": {},
   "outputs": [
    {
     "data": {
      "text/plain": [
       "4"
      ]
     },
     "execution_count": 141,
     "metadata": {},
     "output_type": "execute_result"
    }
   ],
   "source": [
    "ks = set([1,2,3,3,4])\n",
    "d = dict.fromkeys(ks,0)\n",
    "d[1]+= 1\n",
    "d\n",
    "len(list(ks))"
   ]
  },
  {
   "cell_type": "code",
   "execution_count": 152,
   "metadata": {},
   "outputs": [
    {
     "ename": "TypeError",
     "evalue": "unsupported operand type(s) for +: 'set' and 'set'",
     "output_type": "error",
     "traceback": [
      "\u001b[0;31m---------------------------------------------------------------------------\u001b[0m",
      "\u001b[0;31mTypeError\u001b[0m                                 Traceback (most recent call last)",
      "Cell \u001b[0;32mIn[152], line 1\u001b[0m\n\u001b[0;32m----> 1\u001b[0m {\u001b[38;5;241m2\u001b[39m} \u001b[38;5;241m+\u001b[39m {\u001b[38;5;241m1\u001b[39m}\n",
      "\u001b[0;31mTypeError\u001b[0m: unsupported operand type(s) for +: 'set' and 'set'"
     ]
    }
   ],
   "source": [
    "{} + {1}\n"
   ]
  },
  {
   "cell_type": "code",
   "execution_count": 131,
   "metadata": {},
   "outputs": [
    {
     "name": "stdout",
     "output_type": "stream",
     "text": [
      "3\n",
      "4\n",
      "5\n"
     ]
    }
   ],
   "source": [
    "import numpy as np\n",
    "np.log2(4)\n",
    "\n",
    "d = {1:3, 2:4, 3:5}\n",
    "for k in list(d.keys()):\n",
    "    print(d[k])"
   ]
  }
 ],
 "metadata": {
  "kernelspec": {
   "display_name": "base",
   "language": "python",
   "name": "python3"
  },
  "language_info": {
   "codemirror_mode": {
    "name": "ipython",
    "version": 3
   },
   "file_extension": ".py",
   "mimetype": "text/x-python",
   "name": "python",
   "nbconvert_exporter": "python",
   "pygments_lexer": "ipython3",
   "version": "3.12.4"
  }
 },
 "nbformat": 4,
 "nbformat_minor": 2
}
