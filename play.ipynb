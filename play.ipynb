{
 "cells": [
  {
   "cell_type": "code",
   "execution_count": 1454,
   "metadata": {},
   "outputs": [],
   "source": [
    "import parse\n",
    "import ID3\n",
    "import importlib\n",
    "import node\n",
    "from PrettyPrint import PrettyPrintTree\n",
    "\n",
    "train_examples = parse.parse(\"cars_train.data\")\n",
    "test_examples = parse.parse(\"cars_test.data\")\n",
    "valid_examples = parse.parse(\"cars_valid.data\")\n",
    "importlib.reload(ID3)\n",
    "importlib.reload(node)\n",
    "\n",
    "t = ID3.ID3(train_examples, 0)\n",
    "\n",
    "pt = PrettyPrintTree(lambda x: list(x.children.values()), lambda x: (str(x.decision_label) + \"\\n\" + str(x.label) + \"\\n\" + str(list(x.children.keys()))))\n",
    "\n"
   ]
  },
  {
   "cell_type": "code",
   "execution_count": 1455,
   "metadata": {},
   "outputs": [
    {
     "name": "stdout",
     "output_type": "stream",
     "text": [
      "                                                                                                                                                                                             \u001b[100m SAFETY                 \u001b[0m\n",
      "                                                                                                                                                                                             \u001b[100m unacc                  \u001b[0m\n",
      "                                                                                                                                                                                             \u001b[100m ['high', 'low', 'med'] \u001b[0m\n",
      "                                                                                           ┌────────────────────────────────────────────────────────────────────────────────────────────────────────────┴─────────────────────────────────────────┬───────────────────────────────────────────────────────────────────┐\n",
      "                                                                                   \u001b[100m PERSONS          \u001b[0m                                                                                                                                          \u001b[100m None  \u001b[0m                                                        \u001b[100m PERSONS          \u001b[0m                                                                                          \n",
      "                                                                                   \u001b[100m acc              \u001b[0m                                                                                                                                          \u001b[100m unacc \u001b[0m                                                        \u001b[100m unacc            \u001b[0m                                                                                          \n",
      "                                                                                   \u001b[100m ['2', '4', '5+'] \u001b[0m                                                                                                                                          \u001b[100m []    \u001b[0m                                                        \u001b[100m ['2', '4', '5+'] \u001b[0m                                                                                          \n",
      "   ┌─────────────────────────────────────────────────────┬─────────────────────────────────┴────────────────────────────────────────────────────────────────────────────────────────┐                                                                     ┌───────────────────────────────────────────┬───────────────┴───────────────────────────────────────────────────────────┐                                       \n",
      "\u001b[100m None  \u001b[0m                                  \u001b[100m BUYING                          \u001b[0m                                                                                          \u001b[100m BUYING                          \u001b[0m                                                  \u001b[100m None  \u001b[0m                        \u001b[100m BUYING                          \u001b[0m                                               \u001b[100m BUYING                   \u001b[0m                          \n",
      "\u001b[100m unacc \u001b[0m                                  \u001b[100m acc                             \u001b[0m                                                                                          \u001b[100m acc                             \u001b[0m                                                  \u001b[100m unacc \u001b[0m                        \u001b[100m acc                             \u001b[0m                                               \u001b[100m acc                      \u001b[0m                          \n",
      "\u001b[100m []    \u001b[0m                                  \u001b[100m ['high', 'low', 'med', 'vhigh'] \u001b[0m                                                                                          \u001b[100m ['high', 'low', 'med', 'vhigh'] \u001b[0m                                                  \u001b[100m []    \u001b[0m                        \u001b[100m ['high', 'low', 'med', 'vhigh'] \u001b[0m                                               \u001b[100m ['high', 'med', 'vhigh'] \u001b[0m                          \n",
      "          ┌─────────────────────────────────┬────────────┴─────────────────────────┬─────────────────────┐                         ┌───────────────────────────┬────────────────────┴─────────────────────┬──────────────────────────┐                                     ┌───────────────┬──────────┴──┬───────────────────────┐                            ┌────────────────┬──┴───────────────────┐                   \n",
      "        \u001b[100m None \u001b[0m              \u001b[100m MAINT                           \u001b[0m              \u001b[100m MAINT           \u001b[0m \u001b[100m MAINT                   \u001b[0m \u001b[100m MAINT                    \u001b[0m  \u001b[100m LUG_BOOT                \u001b[0m                   \u001b[100m DOORS                  \u001b[0m      \u001b[100m MAINT           \u001b[0m                 \u001b[100m LUG_BOOT                \u001b[0m \u001b[100m None \u001b[0m \u001b[100m MAINT             \u001b[0m  \u001b[100m MAINT                   \u001b[0m    \u001b[100m MAINT                    \u001b[0m \u001b[100m None \u001b[0m   \u001b[100m MAINT                           \u001b[0m   \n",
      "        \u001b[100m acc  \u001b[0m              \u001b[100m vgood                           \u001b[0m              \u001b[100m vgood           \u001b[0m \u001b[100m acc                     \u001b[0m \u001b[100m acc                      \u001b[0m  \u001b[100m vgood                   \u001b[0m                   \u001b[100m vgood                  \u001b[0m      \u001b[100m acc             \u001b[0m                 \u001b[100m unacc                   \u001b[0m \u001b[100m acc  \u001b[0m \u001b[100m acc               \u001b[0m  \u001b[100m acc                     \u001b[0m    \u001b[100m acc                      \u001b[0m \u001b[100m acc  \u001b[0m   \u001b[100m unacc                           \u001b[0m   \n",
      "        \u001b[100m []   \u001b[0m              \u001b[100m ['high', 'low', 'med', 'vhigh'] \u001b[0m              \u001b[100m ['high', 'low'] \u001b[0m \u001b[100m ['low', 'med', 'vhigh'] \u001b[0m \u001b[100m ['high', 'low', 'vhigh'] \u001b[0m  \u001b[100m ['big', 'med', 'small'] \u001b[0m                   \u001b[100m ['4', '55+', '3', '2'] \u001b[0m      \u001b[100m ['high', 'low'] \u001b[0m                 \u001b[100m ['big', 'med', 'small'] \u001b[0m \u001b[100m []   \u001b[0m \u001b[100m ['high', 'vhigh'] \u001b[0m  \u001b[100m ['low', 'med', 'vhigh'] \u001b[0m    \u001b[100m ['high', 'med', 'vhigh'] \u001b[0m \u001b[100m []   \u001b[0m   \u001b[100m ['high', 'low', 'med', 'vhigh'] \u001b[0m   \n",
      "                  ┌────────────┬────────────┴────────────┬────────────┐        ┌───┴───┐          ┌──────┼───────┐          ┌──────┼───────┐         ┌───────┬─┴──────────┐                 ┌────────────┬┴─────┬───────┐         ┌──┴───┐                         ┌───────┼───────┐                  ┌──┴───┐        ┌──────────┼───────────┐         ┌──────┼───────┐                ┌──────────┬───┴───────┬───────┐   \n",
      "               \u001b[100m None  \u001b[0m    \u001b[100m DOORS      \u001b[0m           \u001b[100m LUG_BOOT         \u001b[0m \u001b[100m None \u001b[0m   \u001b[100m None \u001b[0m \u001b[100m None  \u001b[0m     \u001b[100m None \u001b[0m \u001b[100m None \u001b[0m \u001b[100m None  \u001b[0m     \u001b[100m None \u001b[0m \u001b[100m None \u001b[0m \u001b[100m None  \u001b[0m   \u001b[100m None  \u001b[0m \u001b[100m None  \u001b[0m \u001b[100m MAINT           \u001b[0m \u001b[100m MAINT           \u001b[0m \u001b[100m None  \u001b[0m \u001b[100m None \u001b[0m \u001b[100m None  \u001b[0m   \u001b[100m None  \u001b[0m \u001b[100m None \u001b[0m                    \u001b[100m None \u001b[0m \u001b[100m None  \u001b[0m \u001b[100m None  \u001b[0m            \u001b[100m None  \u001b[0m \u001b[100m None \u001b[0m   \u001b[100m None \u001b[0m  \u001b[100m DOORS      \u001b[0m  \u001b[100m None  \u001b[0m    \u001b[100m None \u001b[0m \u001b[100m None \u001b[0m \u001b[100m None  \u001b[0m          \u001b[100m None  \u001b[0m \u001b[100m DOORS        \u001b[0m \u001b[100m None  \u001b[0m \u001b[100m None  \u001b[0m\n",
      "               \u001b[100m vgood \u001b[0m    \u001b[100m good       \u001b[0m           \u001b[100m vgood            \u001b[0m \u001b[100m acc  \u001b[0m   \u001b[100m acc  \u001b[0m \u001b[100m vgood \u001b[0m     \u001b[100m acc  \u001b[0m \u001b[100m acc  \u001b[0m \u001b[100m unacc \u001b[0m     \u001b[100m acc  \u001b[0m \u001b[100m acc  \u001b[0m \u001b[100m unacc \u001b[0m   \u001b[100m vgood \u001b[0m \u001b[100m vgood \u001b[0m \u001b[100m acc             \u001b[0m \u001b[100m acc             \u001b[0m \u001b[100m vgood \u001b[0m \u001b[100m acc  \u001b[0m \u001b[100m vgood \u001b[0m   \u001b[100m unacc \u001b[0m \u001b[100m acc  \u001b[0m                    \u001b[100m acc  \u001b[0m \u001b[100m unacc \u001b[0m \u001b[100m unacc \u001b[0m            \u001b[100m unacc \u001b[0m \u001b[100m acc  \u001b[0m   \u001b[100m acc  \u001b[0m  \u001b[100m acc        \u001b[0m  \u001b[100m unacc \u001b[0m    \u001b[100m acc  \u001b[0m \u001b[100m acc  \u001b[0m \u001b[100m unacc \u001b[0m          \u001b[100m unacc \u001b[0m \u001b[100m acc          \u001b[0m \u001b[100m unacc \u001b[0m \u001b[100m unacc \u001b[0m\n",
      "               \u001b[100m []    \u001b[0m    \u001b[100m ['2', '4'] \u001b[0m           \u001b[100m ['big', 'small'] \u001b[0m \u001b[100m []   \u001b[0m   \u001b[100m []   \u001b[0m \u001b[100m []    \u001b[0m     \u001b[100m []   \u001b[0m \u001b[100m []   \u001b[0m \u001b[100m []    \u001b[0m     \u001b[100m []   \u001b[0m \u001b[100m []   \u001b[0m \u001b[100m []    \u001b[0m   \u001b[100m []    \u001b[0m \u001b[100m []    \u001b[0m \u001b[100m ['high', 'low'] \u001b[0m \u001b[100m ['high', 'low'] \u001b[0m \u001b[100m []    \u001b[0m \u001b[100m []   \u001b[0m \u001b[100m []    \u001b[0m   \u001b[100m []    \u001b[0m \u001b[100m []   \u001b[0m                    \u001b[100m []   \u001b[0m \u001b[100m []    \u001b[0m \u001b[100m []    \u001b[0m            \u001b[100m []    \u001b[0m \u001b[100m []   \u001b[0m   \u001b[100m []   \u001b[0m  \u001b[100m ['4', '3'] \u001b[0m  \u001b[100m []    \u001b[0m    \u001b[100m []   \u001b[0m \u001b[100m []   \u001b[0m \u001b[100m []    \u001b[0m          \u001b[100m []    \u001b[0m \u001b[100m ['2', '55+'] \u001b[0m \u001b[100m []    \u001b[0m \u001b[100m []    \u001b[0m\n",
      "                         ┌─────┴──────┐               ┌──┴───┐                                                                                                         ┌──┴───┐          ┌──┴───┐                                                                                                                            ┌───┴───┐                                                        ┌───┴───┐                   \n",
      "                       \u001b[100m None \u001b[0m \u001b[100m LUG_BOOT         \u001b[0m   \u001b[100m None  \u001b[0m \u001b[100m None \u001b[0m                                                                                                    \u001b[100m None \u001b[0m \u001b[100m None \u001b[0m     \u001b[100m None \u001b[0m \u001b[100m None \u001b[0m                                                                                                                       \u001b[100m None \u001b[0m \u001b[100m None  \u001b[0m                                                   \u001b[100m None \u001b[0m \u001b[100m None  \u001b[0m                \n",
      "                       \u001b[100m good \u001b[0m \u001b[100m vgood            \u001b[0m   \u001b[100m vgood \u001b[0m \u001b[100m good \u001b[0m                                                                                                    \u001b[100m acc  \u001b[0m \u001b[100m good \u001b[0m     \u001b[100m acc  \u001b[0m \u001b[100m good \u001b[0m                                                                                                                       \u001b[100m acc  \u001b[0m \u001b[100m unacc \u001b[0m                                                   \u001b[100m acc  \u001b[0m \u001b[100m unacc \u001b[0m                \n",
      "                       \u001b[100m []   \u001b[0m \u001b[100m ['med', 'small'] \u001b[0m   \u001b[100m []    \u001b[0m \u001b[100m []   \u001b[0m                                                                                                    \u001b[100m []   \u001b[0m \u001b[100m []   \u001b[0m     \u001b[100m []   \u001b[0m \u001b[100m []   \u001b[0m                                                                                                                       \u001b[100m []   \u001b[0m \u001b[100m []    \u001b[0m                                                   \u001b[100m []   \u001b[0m \u001b[100m []    \u001b[0m                \n",
      "                                   ┌──┴───┐                                                                                                                                                                                                                                                                                                                                                                               \n",
      "                                \u001b[100m None  \u001b[0m \u001b[100m None \u001b[0m                                                                                                                                                                                                                                                                                                                                                                            \n",
      "                                \u001b[100m vgood \u001b[0m \u001b[100m good \u001b[0m                                                                                                                                                                                                                                                                                                                                                                            \n",
      "                                \u001b[100m []    \u001b[0m \u001b[100m []   \u001b[0m\n",
      "                                                                \u001b[100m SAFETY                 \u001b[0m\n",
      "                                                                \u001b[100m unacc                  \u001b[0m\n",
      "                                                                \u001b[100m ['high', 'low', 'med'] \u001b[0m\n",
      "                       ┌───────────────────────────────────────────────────┴─────────┬──────────────────────────────────────────┐\n",
      "               \u001b[100m PERSONS          \u001b[0m                                                 \u001b[100m None  \u001b[0m                               \u001b[100m PERSONS          \u001b[0m                                           \n",
      "               \u001b[100m acc              \u001b[0m                                                 \u001b[100m unacc \u001b[0m                               \u001b[100m unacc            \u001b[0m                                           \n",
      "               \u001b[100m ['2', '4', '5+'] \u001b[0m                                                 \u001b[100m []    \u001b[0m                               \u001b[100m ['2', '4', '5+'] \u001b[0m                                           \n",
      "   ┌──────┬────────────┴────────────────────┐                                                ┌────────────────────────┬─────────┴───────────────────────────────────┐                \n",
      "\u001b[100m None  \u001b[0m \u001b[100m None \u001b[0m              \u001b[100m BUYING                          \u001b[0m                             \u001b[100m None  \u001b[0m     \u001b[100m BUYING                          \u001b[0m                 \u001b[100m BUYING                   \u001b[0m   \n",
      "\u001b[100m unacc \u001b[0m \u001b[100m acc  \u001b[0m              \u001b[100m acc                             \u001b[0m                             \u001b[100m unacc \u001b[0m     \u001b[100m acc                             \u001b[0m                 \u001b[100m acc                      \u001b[0m   \n",
      "\u001b[100m []    \u001b[0m \u001b[100m []   \u001b[0m              \u001b[100m ['high', 'low', 'med', 'vhigh'] \u001b[0m                             \u001b[100m []    \u001b[0m     \u001b[100m ['high', 'low', 'med', 'vhigh'] \u001b[0m                 \u001b[100m ['high', 'med', 'vhigh'] \u001b[0m   \n",
      "                 ┌─────────────────┬────────┴──────────────┬────────────┐                            ┌──────┬─────────┴───┬────────────┐                ┌───────────┴────┬───────┐   \n",
      "               \u001b[100m None \u001b[0m  \u001b[100m LUG_BOOT                \u001b[0m        \u001b[100m None  \u001b[0m \u001b[100m MAINT           \u001b[0m                 \u001b[100m None  \u001b[0m \u001b[100m None \u001b[0m \u001b[100m MAINT             \u001b[0m \u001b[100m None \u001b[0m \u001b[100m MAINT                    \u001b[0m \u001b[100m None \u001b[0m \u001b[100m None  \u001b[0m\n",
      "               \u001b[100m acc  \u001b[0m  \u001b[100m vgood                   \u001b[0m        \u001b[100m vgood \u001b[0m \u001b[100m acc             \u001b[0m                 \u001b[100m unacc \u001b[0m \u001b[100m acc  \u001b[0m \u001b[100m acc               \u001b[0m \u001b[100m acc  \u001b[0m \u001b[100m acc                      \u001b[0m \u001b[100m acc  \u001b[0m \u001b[100m unacc \u001b[0m\n",
      "               \u001b[100m []   \u001b[0m  \u001b[100m ['big', 'med', 'small'] \u001b[0m        \u001b[100m []    \u001b[0m \u001b[100m ['high', 'low'] \u001b[0m                 \u001b[100m []    \u001b[0m \u001b[100m []   \u001b[0m \u001b[100m ['high', 'vhigh'] \u001b[0m \u001b[100m []   \u001b[0m \u001b[100m ['high', 'med', 'vhigh'] \u001b[0m \u001b[100m []   \u001b[0m \u001b[100m []    \u001b[0m\n",
      "                         ┌───────┬─┴──────────┐                      ┌──┴───┐                                          ┌──┴───┐                  ┌──────┼───────┐                    \n",
      "                      \u001b[100m None  \u001b[0m \u001b[100m None  \u001b[0m \u001b[100m MAINT           \u001b[0m           \u001b[100m None  \u001b[0m \u001b[100m None \u001b[0m                                    \u001b[100m None  \u001b[0m \u001b[100m None \u001b[0m             \u001b[100m None \u001b[0m \u001b[100m None \u001b[0m \u001b[100m None  \u001b[0m                 \n",
      "                      \u001b[100m vgood \u001b[0m \u001b[100m vgood \u001b[0m \u001b[100m acc             \u001b[0m           \u001b[100m unacc \u001b[0m \u001b[100m acc  \u001b[0m                                    \u001b[100m unacc \u001b[0m \u001b[100m acc  \u001b[0m             \u001b[100m acc  \u001b[0m \u001b[100m acc  \u001b[0m \u001b[100m unacc \u001b[0m                 \n",
      "                      \u001b[100m []    \u001b[0m \u001b[100m []    \u001b[0m \u001b[100m ['high', 'low'] \u001b[0m           \u001b[100m []    \u001b[0m \u001b[100m []   \u001b[0m                                    \u001b[100m []    \u001b[0m \u001b[100m []   \u001b[0m             \u001b[100m []   \u001b[0m \u001b[100m []   \u001b[0m \u001b[100m []    \u001b[0m                 \n",
      "                                           ┌──┴───┐                                                                                                                                  \n",
      "                                         \u001b[100m None \u001b[0m \u001b[100m None \u001b[0m                                                                                                                               \n",
      "                                         \u001b[100m acc  \u001b[0m \u001b[100m good \u001b[0m                                                                                                                               \n",
      "                                         \u001b[100m []   \u001b[0m \u001b[100m []   \u001b[0m\n"
     ]
    },
    {
     "data": {
      "text/plain": [
       "(0.7714285714285715, 0.7714285714285715)"
      ]
     },
     "execution_count": 1455,
     "metadata": {},
     "output_type": "execute_result"
    }
   ],
   "source": [
    "\n",
    "a1 = ID3.test(t, test_examples)\n",
    "pt(t)\n",
    "ID3.prune(t, valid_examples)\n",
    "pt(t)\n",
    "a2 = ID3.test(t, test_examples)\n",
    "\n",
    "(a1,a2)\n"
   ]
  },
  {
   "cell_type": "code",
   "execution_count": 1456,
   "metadata": {},
   "outputs": [
    {
     "name": "stdout",
     "output_type": "stream",
     "text": [
      "    \u001b[100m a         \u001b[0m\n",
      "    \u001b[100m 1         \u001b[0m\n",
      "    \u001b[100m [1, 2, 3] \u001b[0m\n",
      "  ┌──────┼──────┐\n",
      "\u001b[100m None \u001b[0m \u001b[100m None \u001b[0m \u001b[100m None \u001b[0m\n",
      "\u001b[100m 1    \u001b[0m \u001b[100m 2    \u001b[0m \u001b[100m 3    \u001b[0m\n",
      "\u001b[100m []   \u001b[0m \u001b[100m []   \u001b[0m \u001b[100m []   \u001b[0m\n"
     ]
    }
   ],
   "source": [
    "data = [dict(a=1, b=0, c='?', Class=1), dict(a=1, b=3, c=2, Class=1),\n",
    "         dict(a=2, b='?', c=1, Class=2), dict(a=2, b=1, c=3, Class=2),\n",
    "         dict(a=3, b=0, c=1, Class=3), dict(a=3, b=2, c='?', Class=3)]\n",
    "t = ID3.ID3(data, 0)\n",
    "pt(t)\n"
   ]
  },
  {
   "cell_type": "code",
   "execution_count": 1457,
   "metadata": {},
   "outputs": [
    {
     "name": "stdout",
     "output_type": "stream",
     "text": [
      "ID3 test 1 succeeded.\n",
      "ID3 test 2 succeeded.\n",
      "ID3 test 3-1 succeeded.\n",
      "ID3 test 3-2 succeeded.\n",
      "ID3 test 4-1 succeeded.\n",
      "ID3 test 4-2 succeeded.\n"
     ]
    }
   ],
   "source": [
    "import mini_auto_grader as mg\n",
    "mg.mini_grader()"
   ]
  },
  {
   "cell_type": "code",
   "execution_count": 1458,
   "metadata": {},
   "outputs": [
    {
     "name": "stdout",
     "output_type": "stream",
     "text": [
      "ID3 test 1 succeeded.\n",
      "ID3 test 2 succeeded.\n",
      "ID3 test 3-1 succeeded.\n",
      "ID3 test 3-2 succeeded.\n",
      "ID3 test 4-1 succeeded.\n",
      "ID3 test 4-2 succeeded.\n"
     ]
    }
   ],
   "source": [
    "import unit_tests as ut\n",
    "mg.mini_grader()\n",
    "\n",
    "\n"
   ]
  },
  {
   "cell_type": "code",
   "execution_count": 1459,
   "metadata": {},
   "outputs": [
    {
     "data": {
      "text/plain": [
       "3"
      ]
     },
     "execution_count": 1459,
     "metadata": {},
     "output_type": "execute_result"
    }
   ],
   "source": [
    "len(set([1,2,3]))"
   ]
  }
 ],
 "metadata": {
  "kernelspec": {
   "display_name": "base",
   "language": "python",
   "name": "python3"
  },
  "language_info": {
   "codemirror_mode": {
    "name": "ipython",
    "version": 3
   },
   "file_extension": ".py",
   "mimetype": "text/x-python",
   "name": "python",
   "nbconvert_exporter": "python",
   "pygments_lexer": "ipython3",
   "version": "3.12.4"
  }
 },
 "nbformat": 4,
 "nbformat_minor": 2
}
