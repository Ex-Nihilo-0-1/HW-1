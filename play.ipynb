{
 "cells": [
  {
   "cell_type": "code",
   "execution_count": 43,
   "metadata": {},
   "outputs": [
    {
     "name": "stdout",
     "output_type": "stream",
     "text": [
      "['med', 'low', 'high']\n",
      "D_a [{'BUYING': 'med', 'MAINT': 'low', 'DOORS': '55+', 'PERSONS': '5+', 'LUG_BOOT': 'small', 'SAFETY': 'med', 'Class': 'acc'}, {'BUYING': 'high', 'MAINT': 'high', 'DOORS': '4', 'PERSONS': '2', 'LUG_BOOT': 'small', 'SAFETY': 'med', 'Class': 'unacc'}, {'BUYING': 'low', 'MAINT': 'med', 'DOORS': '2', 'PERSONS': '4', 'LUG_BOOT': 'small', 'SAFETY': 'med', 'Class': 'acc'}, {'BUYING': 'high', 'MAINT': 'med', 'DOORS': '3', 'PERSONS': '2', 'LUG_BOOT': 'med', 'SAFETY': 'med', 'Class': 'unacc'}, {'BUYING': 'high', 'MAINT': 'high', 'DOORS': '2', 'PERSONS': '2', 'LUG_BOOT': 'med', 'SAFETY': 'med', 'Class': 'unacc'}, {'BUYING': 'high', 'MAINT': 'med', 'DOORS': '3', 'PERSONS': '5+', 'LUG_BOOT': 'big', 'SAFETY': 'med', 'Class': 'acc'}, {'BUYING': 'vhigh', 'MAINT': 'med', 'DOORS': '3', 'PERSONS': '4', 'LUG_BOOT': 'small', 'SAFETY': 'med', 'Class': 'unacc'}, {'BUYING': 'low', 'MAINT': 'low', 'DOORS': '55+', 'PERSONS': '4', 'LUG_BOOT': 'small', 'SAFETY': 'med', 'Class': 'acc'}, {'BUYING': 'high', 'MAINT': 'high', 'DOORS': '2', 'PERSONS': '5+', 'LUG_BOOT': 'big', 'SAFETY': 'med', 'Class': 'acc'}, {'BUYING': 'low', 'MAINT': 'vhigh', 'DOORS': '3', 'PERSONS': '4', 'LUG_BOOT': 'big', 'SAFETY': 'med', 'Class': 'acc'}, {'BUYING': 'vhigh', 'MAINT': 'vhigh', 'DOORS': '55+', 'PERSONS': '5+', 'LUG_BOOT': 'small', 'SAFETY': 'med', 'Class': 'unacc'}, {'BUYING': 'med', 'MAINT': 'high', 'DOORS': '2', 'PERSONS': '4', 'LUG_BOOT': 'small', 'SAFETY': 'med', 'Class': 'unacc'}, {'BUYING': 'vhigh', 'MAINT': 'med', 'DOORS': '4', 'PERSONS': '4', 'LUG_BOOT': 'med', 'SAFETY': 'med', 'Class': 'acc'}, {'BUYING': 'vhigh', 'MAINT': 'low', 'DOORS': '55+', 'PERSONS': '2', 'LUG_BOOT': 'med', 'SAFETY': 'med', 'Class': 'unacc'}, {'BUYING': 'med', 'MAINT': 'med', 'DOORS': '3', 'PERSONS': '5+', 'LUG_BOOT': 'big', 'SAFETY': 'med', 'Class': 'acc'}, {'BUYING': 'low', 'MAINT': 'med', 'DOORS': '2', 'PERSONS': '4', 'LUG_BOOT': 'med', 'SAFETY': 'med', 'Class': 'acc'}, {'BUYING': 'high', 'MAINT': 'high', 'DOORS': '55+', 'PERSONS': '5+', 'LUG_BOOT': 'big', 'SAFETY': 'med', 'Class': 'acc'}, {'BUYING': 'vhigh', 'MAINT': 'vhigh', 'DOORS': '55+', 'PERSONS': '2', 'LUG_BOOT': 'big', 'SAFETY': 'med', 'Class': 'unacc'}, {'BUYING': 'low', 'MAINT': 'med', 'DOORS': '55+', 'PERSONS': '2', 'LUG_BOOT': 'med', 'SAFETY': 'med', 'Class': 'unacc'}, {'BUYING': 'high', 'MAINT': 'low', 'DOORS': '2', 'PERSONS': '4', 'LUG_BOOT': 'big', 'SAFETY': 'med', 'Class': 'acc'}, {'BUYING': 'high', 'MAINT': 'vhigh', 'DOORS': '4', 'PERSONS': '5+', 'LUG_BOOT': 'big', 'SAFETY': 'med', 'Class': 'unacc'}, {'BUYING': 'low', 'MAINT': 'vhigh', 'DOORS': '3', 'PERSONS': '2', 'LUG_BOOT': 'big', 'SAFETY': 'med', 'Class': 'unacc'}, {'BUYING': 'high', 'MAINT': 'med', 'DOORS': '4', 'PERSONS': '2', 'LUG_BOOT': 'big', 'SAFETY': 'med', 'Class': 'unacc'}, {'BUYING': 'vhigh', 'MAINT': 'vhigh', 'DOORS': '2', 'PERSONS': '5+', 'LUG_BOOT': 'med', 'SAFETY': 'med', 'Class': 'unacc'}, {'BUYING': 'med', 'MAINT': 'low', 'DOORS': '4', 'PERSONS': '2', 'LUG_BOOT': 'med', 'SAFETY': 'med', 'Class': 'unacc'}, {'BUYING': 'high', 'MAINT': 'high', 'DOORS': '3', 'PERSONS': '2', 'LUG_BOOT': 'big', 'SAFETY': 'med', 'Class': 'unacc'}, {'BUYING': 'vhigh', 'MAINT': 'low', 'DOORS': '55+', 'PERSONS': '5+', 'LUG_BOOT': 'small', 'SAFETY': 'med', 'Class': 'unacc'}, {'BUYING': 'med', 'MAINT': 'high', 'DOORS': '3', 'PERSONS': '2', 'LUG_BOOT': 'big', 'SAFETY': 'med', 'Class': 'unacc'}, {'BUYING': 'med', 'MAINT': 'vhigh', 'DOORS': '3', 'PERSONS': '2', 'LUG_BOOT': 'med', 'SAFETY': 'med', 'Class': 'unacc'}, {'BUYING': 'high', 'MAINT': 'med', 'DOORS': '2', 'PERSONS': '2', 'LUG_BOOT': 'big', 'SAFETY': 'med', 'Class': 'unacc'}, {'BUYING': 'high', 'MAINT': 'high', 'DOORS': '4', 'PERSONS': '2', 'LUG_BOOT': 'big', 'SAFETY': 'med', 'Class': 'unacc'}, {'BUYING': 'vhigh', 'MAINT': 'low', 'DOORS': '3', 'PERSONS': '4', 'LUG_BOOT': 'big', 'SAFETY': 'med', 'Class': 'acc'}, {'BUYING': 'low', 'MAINT': 'vhigh', 'DOORS': '4', 'PERSONS': '2', 'LUG_BOOT': 'small', 'SAFETY': 'med', 'Class': 'unacc'}, {'BUYING': 'vhigh', 'MAINT': 'low', 'DOORS': '2', 'PERSONS': '5+', 'LUG_BOOT': 'big', 'SAFETY': 'med', 'Class': 'acc'}, {'BUYING': 'med', 'MAINT': 'high', 'DOORS': '3', 'PERSONS': '5+', 'LUG_BOOT': 'big', 'SAFETY': 'med', 'Class': 'acc'}, {'BUYING': 'vhigh', 'MAINT': 'vhigh', 'DOORS': '2', 'PERSONS': '4', 'LUG_BOOT': 'med', 'SAFETY': 'med', 'Class': 'unacc'}, {'BUYING': 'vhigh', 'MAINT': 'vhigh', 'DOORS': '2', 'PERSONS': '5+', 'LUG_BOOT': 'big', 'SAFETY': 'med', 'Class': 'unacc'}, {'BUYING': 'low', 'MAINT': 'med', 'DOORS': '4', 'PERSONS': '2', 'LUG_BOOT': 'big', 'SAFETY': 'med', 'Class': 'unacc'}, {'BUYING': 'med', 'MAINT': 'med', 'DOORS': '2', 'PERSONS': '5+', 'LUG_BOOT': 'big', 'SAFETY': 'med', 'Class': 'acc'}, {'BUYING': 'high', 'MAINT': 'low', 'DOORS': '4', 'PERSONS': '4', 'LUG_BOOT': 'big', 'SAFETY': 'med', 'Class': 'acc'}, {'BUYING': 'low', 'MAINT': 'high', 'DOORS': '2', 'PERSONS': '4', 'LUG_BOOT': 'small', 'SAFETY': 'med', 'Class': 'acc'}, {'BUYING': 'vhigh', 'MAINT': 'med', 'DOORS': '3', 'PERSONS': '2', 'LUG_BOOT': 'big', 'SAFETY': 'med', 'Class': 'unacc'}, {'BUYING': 'vhigh', 'MAINT': 'med', 'DOORS': '55+', 'PERSONS': '2', 'LUG_BOOT': 'small', 'SAFETY': 'med', 'Class': 'unacc'}, {'BUYING': 'high', 'MAINT': 'med', 'DOORS': '55+', 'PERSONS': '2', 'LUG_BOOT': 'big', 'SAFETY': 'med', 'Class': 'unacc'}, {'BUYING': 'vhigh', 'MAINT': 'vhigh', 'DOORS': '3', 'PERSONS': '5+', 'LUG_BOOT': 'med', 'SAFETY': 'med', 'Class': 'unacc'}, {'BUYING': 'med', 'MAINT': 'vhigh', 'DOORS': '3', 'PERSONS': '2', 'LUG_BOOT': 'small', 'SAFETY': 'med', 'Class': 'unacc'}, {'BUYING': 'low', 'MAINT': 'high', 'DOORS': '55+', 'PERSONS': '4', 'LUG_BOOT': 'med', 'SAFETY': 'med', 'Class': 'acc'}, {'BUYING': 'med', 'MAINT': 'vhigh', 'DOORS': '4', 'PERSONS': '2', 'LUG_BOOT': 'small', 'SAFETY': 'med', 'Class': 'unacc'}, {'BUYING': 'med', 'MAINT': 'med', 'DOORS': '2', 'PERSONS': '5+', 'LUG_BOOT': 'med', 'SAFETY': 'med', 'Class': 'acc'}, {'BUYING': 'med', 'MAINT': 'vhigh', 'DOORS': '55+', 'PERSONS': '4', 'LUG_BOOT': 'med', 'SAFETY': 'med', 'Class': 'acc'}, {'BUYING': 'high', 'MAINT': 'low', 'DOORS': '2', 'PERSONS': '4', 'LUG_BOOT': 'small', 'SAFETY': 'med', 'Class': 'unacc'}, {'BUYING': 'vhigh', 'MAINT': 'low', 'DOORS': '2', 'PERSONS': '2', 'LUG_BOOT': 'big', 'SAFETY': 'med', 'Class': 'unacc'}, {'BUYING': 'vhigh', 'MAINT': 'med', 'DOORS': '55+', 'PERSONS': '5+', 'LUG_BOOT': 'small', 'SAFETY': 'med', 'Class': 'unacc'}, {'BUYING': 'high', 'MAINT': 'vhigh', 'DOORS': '4', 'PERSONS': '4', 'LUG_BOOT': 'small', 'SAFETY': 'med', 'Class': 'unacc'}, {'BUYING': 'low', 'MAINT': 'med', 'DOORS': '55+', 'PERSONS': '4', 'LUG_BOOT': 'small', 'SAFETY': 'med', 'Class': 'acc'}, {'BUYING': 'low', 'MAINT': 'vhigh', 'DOORS': '2', 'PERSONS': '2', 'LUG_BOOT': 'small', 'SAFETY': 'med', 'Class': 'unacc'}, {'BUYING': 'low', 'MAINT': 'vhigh', 'DOORS': '55+', 'PERSONS': '2', 'LUG_BOOT': 'small', 'SAFETY': 'med', 'Class': 'unacc'}, {'BUYING': 'med', 'MAINT': 'low', 'DOORS': '55+', 'PERSONS': '2', 'LUG_BOOT': 'big', 'SAFETY': 'med', 'Class': 'unacc'}, {'BUYING': 'low', 'MAINT': 'med', 'DOORS': '55+', 'PERSONS': '2', 'LUG_BOOT': 'big', 'SAFETY': 'med', 'Class': 'unacc'}, {'BUYING': 'vhigh', 'MAINT': 'high', 'DOORS': '4', 'PERSONS': '5+', 'LUG_BOOT': 'med', 'SAFETY': 'med', 'Class': 'unacc'}, {'BUYING': 'vhigh', 'MAINT': 'low', 'DOORS': '4', 'PERSONS': '4', 'LUG_BOOT': 'med', 'SAFETY': 'med', 'Class': 'acc'}, {'BUYING': 'low', 'MAINT': 'med', 'DOORS': '2', 'PERSONS': '2', 'LUG_BOOT': 'small', 'SAFETY': 'med', 'Class': 'unacc'}, {'BUYING': 'high', 'MAINT': 'low', 'DOORS': '3', 'PERSONS': '4', 'LUG_BOOT': 'med', 'SAFETY': 'med', 'Class': 'unacc'}, {'BUYING': 'vhigh', 'MAINT': 'high', 'DOORS': '55+', 'PERSONS': '5+', 'LUG_BOOT': 'small', 'SAFETY': 'med', 'Class': 'unacc'}, {'BUYING': 'med', 'MAINT': 'vhigh', 'DOORS': '55+', 'PERSONS': '5+', 'LUG_BOOT': 'med', 'SAFETY': 'med', 'Class': 'acc'}]\n",
      "A* SAFETY\n",
      "A* =  med\n",
      "['2', '4', '5+']\n",
      "D_a [{'BUYING': 'high', 'MAINT': 'high', 'DOORS': '4', 'PERSONS': '2', 'LUG_BOOT': 'small', 'Class': 'unacc'}, {'BUYING': 'high', 'MAINT': 'med', 'DOORS': '3', 'PERSONS': '2', 'LUG_BOOT': 'med', 'Class': 'unacc'}, {'BUYING': 'high', 'MAINT': 'high', 'DOORS': '2', 'PERSONS': '2', 'LUG_BOOT': 'med', 'Class': 'unacc'}, {'BUYING': 'vhigh', 'MAINT': 'low', 'DOORS': '55+', 'PERSONS': '2', 'LUG_BOOT': 'med', 'Class': 'unacc'}, {'BUYING': 'vhigh', 'MAINT': 'vhigh', 'DOORS': '55+', 'PERSONS': '2', 'LUG_BOOT': 'big', 'Class': 'unacc'}, {'BUYING': 'low', 'MAINT': 'med', 'DOORS': '55+', 'PERSONS': '2', 'LUG_BOOT': 'med', 'Class': 'unacc'}, {'BUYING': 'low', 'MAINT': 'vhigh', 'DOORS': '3', 'PERSONS': '2', 'LUG_BOOT': 'big', 'Class': 'unacc'}, {'BUYING': 'high', 'MAINT': 'med', 'DOORS': '4', 'PERSONS': '2', 'LUG_BOOT': 'big', 'Class': 'unacc'}, {'BUYING': 'med', 'MAINT': 'low', 'DOORS': '4', 'PERSONS': '2', 'LUG_BOOT': 'med', 'Class': 'unacc'}, {'BUYING': 'high', 'MAINT': 'high', 'DOORS': '3', 'PERSONS': '2', 'LUG_BOOT': 'big', 'Class': 'unacc'}, {'BUYING': 'med', 'MAINT': 'high', 'DOORS': '3', 'PERSONS': '2', 'LUG_BOOT': 'big', 'Class': 'unacc'}, {'BUYING': 'med', 'MAINT': 'vhigh', 'DOORS': '3', 'PERSONS': '2', 'LUG_BOOT': 'med', 'Class': 'unacc'}, {'BUYING': 'high', 'MAINT': 'med', 'DOORS': '2', 'PERSONS': '2', 'LUG_BOOT': 'big', 'Class': 'unacc'}, {'BUYING': 'high', 'MAINT': 'high', 'DOORS': '4', 'PERSONS': '2', 'LUG_BOOT': 'big', 'Class': 'unacc'}, {'BUYING': 'low', 'MAINT': 'vhigh', 'DOORS': '4', 'PERSONS': '2', 'LUG_BOOT': 'small', 'Class': 'unacc'}, {'BUYING': 'low', 'MAINT': 'med', 'DOORS': '4', 'PERSONS': '2', 'LUG_BOOT': 'big', 'Class': 'unacc'}, {'BUYING': 'vhigh', 'MAINT': 'med', 'DOORS': '3', 'PERSONS': '2', 'LUG_BOOT': 'big', 'Class': 'unacc'}, {'BUYING': 'vhigh', 'MAINT': 'med', 'DOORS': '55+', 'PERSONS': '2', 'LUG_BOOT': 'small', 'Class': 'unacc'}, {'BUYING': 'high', 'MAINT': 'med', 'DOORS': '55+', 'PERSONS': '2', 'LUG_BOOT': 'big', 'Class': 'unacc'}, {'BUYING': 'med', 'MAINT': 'vhigh', 'DOORS': '3', 'PERSONS': '2', 'LUG_BOOT': 'small', 'Class': 'unacc'}, {'BUYING': 'med', 'MAINT': 'vhigh', 'DOORS': '4', 'PERSONS': '2', 'LUG_BOOT': 'small', 'Class': 'unacc'}, {'BUYING': 'vhigh', 'MAINT': 'low', 'DOORS': '2', 'PERSONS': '2', 'LUG_BOOT': 'big', 'Class': 'unacc'}, {'BUYING': 'low', 'MAINT': 'vhigh', 'DOORS': '2', 'PERSONS': '2', 'LUG_BOOT': 'small', 'Class': 'unacc'}, {'BUYING': 'low', 'MAINT': 'vhigh', 'DOORS': '55+', 'PERSONS': '2', 'LUG_BOOT': 'small', 'Class': 'unacc'}, {'BUYING': 'med', 'MAINT': 'low', 'DOORS': '55+', 'PERSONS': '2', 'LUG_BOOT': 'big', 'Class': 'unacc'}, {'BUYING': 'low', 'MAINT': 'med', 'DOORS': '55+', 'PERSONS': '2', 'LUG_BOOT': 'big', 'Class': 'unacc'}, {'BUYING': 'low', 'MAINT': 'med', 'DOORS': '2', 'PERSONS': '2', 'LUG_BOOT': 'small', 'Class': 'unacc'}]\n",
      "A* PERSONS\n",
      "A* =  2\n",
      "D_a []\n",
      "A* PERSONS\n",
      "A* =  4\n",
      "D_a []\n",
      "A* PERSONS\n",
      "A* =  5+\n",
      "D_a []\n",
      "A* SAFETY\n",
      "A* =  low\n",
      "D_a []\n",
      "A* SAFETY\n",
      "A* =  high\n"
     ]
    },
    {
     "data": {
      "text/plain": [
       "0.6285714285714286"
      ]
     },
     "execution_count": 43,
     "metadata": {},
     "output_type": "execute_result"
    }
   ],
   "source": [
    "import parse\n",
    "import ID3\n",
    "import importlib\n",
    "import node\n",
    "from PrettyPrint import PrettyPrintTree\n",
    "\n",
    "train_examples = parse.parse(\"cars_train.data\")\n",
    "test_examples = parse.parse(\"cars_test.data\")\n",
    "valid_examples = parse.parse(\"cars_valid.data\")\n",
    "importlib.reload(ID3)\n",
    "importlib.reload(node)\n",
    "\n",
    "t = ID3.ID3(train_examples, 0)\n",
    "ID3.test(t, test_examples)\n",
    "\n",
    "\n",
    "\n"
   ]
  },
  {
   "cell_type": "code",
   "execution_count": 44,
   "metadata": {},
   "outputs": [
    {
     "data": {
      "text/plain": [
       "65"
      ]
     },
     "execution_count": 44,
     "metadata": {},
     "output_type": "execute_result"
    }
   ],
   "source": [
    "len(t.children['med'].data)"
   ]
  },
  {
   "cell_type": "code",
   "execution_count": 45,
   "metadata": {},
   "outputs": [
    {
     "data": {
      "text/plain": [
       "200"
      ]
     },
     "execution_count": 45,
     "metadata": {},
     "output_type": "execute_result"
    }
   ],
   "source": [
    "len(t.data)"
   ]
  },
  {
   "cell_type": "code",
   "execution_count": 46,
   "metadata": {},
   "outputs": [
    {
     "name": "stdout",
     "output_type": "stream",
     "text": [
      "ID3 test 1 succeeded.\n",
      "[0, 1]\n",
      "D_a [{'a': 1, 'b': 0, 'Class': 0}]\n",
      "A* b\n",
      "A* =  0\n",
      "D_a []\n",
      "A* b\n",
      "A* =  1\n",
      "ID3 test 2 succeeded.\n",
      "[0, 1]\n",
      "D_a [{'a': 1, 'b': 0, 'Class': 2}, {'a': 2, 'b': 0, 'Class': 2}, {'a': 3, 'b': 0, 'Class': 1}]\n",
      "A* b\n",
      "A* =  0\n",
      "[1, 2, 3]\n",
      "D_a [{'a': 1, 'Class': 2}]\n",
      "A* a\n",
      "A* =  1\n",
      "D_a []\n",
      "A* a\n",
      "A* =  2\n",
      "D_a []\n",
      "A* a\n",
      "A* =  3\n",
      "D_a []\n",
      "A* b\n",
      "A* =  1\n",
      "ID3 test 3-1 succeeded.\n",
      "ID3 test 3-2 succeeded.\n",
      "[1, 2, 3]\n",
      "D_a [{'a': 1, 'b': 0, 'c': '?', 'Class': 1}, {'a': 1, 'b': 3, 'c': 2, 'Class': 1}]\n",
      "A* a\n",
      "A* =  1\n",
      "D_a []\n",
      "A* a\n",
      "A* =  2\n",
      "D_a []\n",
      "A* a\n",
      "A* =  3\n",
      "ID3 test 4-1 succeeded.\n",
      "ID3 test 4-2 failed.\n"
     ]
    }
   ],
   "source": [
    "import mini_auto_grader as mg\n",
    "mg.mini_grader()"
   ]
  },
  {
   "cell_type": "code",
   "execution_count": 47,
   "metadata": {},
   "outputs": [
    {
     "name": "stdout",
     "output_type": "stream",
     "text": [
      "ID3 test 1 succeeded.\n",
      "[0, 1]\n",
      "D_a [{'a': 1, 'b': 0, 'Class': 0}]\n",
      "A* b\n",
      "A* =  0\n",
      "D_a []\n",
      "A* b\n",
      "A* =  1\n",
      "ID3 test 2 succeeded.\n",
      "[0, 1]\n",
      "D_a [{'a': 1, 'b': 0, 'Class': 2}, {'a': 2, 'b': 0, 'Class': 2}, {'a': 3, 'b': 0, 'Class': 1}]\n",
      "A* b\n",
      "A* =  0\n",
      "[1, 2, 3]\n",
      "D_a [{'a': 1, 'Class': 2}]\n",
      "A* a\n",
      "A* =  1\n",
      "D_a []\n",
      "A* a\n",
      "A* =  2\n",
      "D_a []\n",
      "A* a\n",
      "A* =  3\n",
      "D_a []\n",
      "A* b\n",
      "A* =  1\n",
      "ID3 test 3-1 succeeded.\n",
      "ID3 test 3-2 succeeded.\n",
      "[1, 2, 3]\n",
      "D_a [{'a': 1, 'b': 0, 'c': '?', 'Class': 1}, {'a': 1, 'b': 3, 'c': 2, 'Class': 1}]\n",
      "A* a\n",
      "A* =  1\n",
      "D_a []\n",
      "A* a\n",
      "A* =  2\n",
      "D_a []\n",
      "A* a\n",
      "A* =  3\n",
      "ID3 test 4-1 succeeded.\n",
      "ID3 test 4-2 failed.\n"
     ]
    }
   ],
   "source": [
    "import unit_tests as ut\n",
    "mg.mini_grader()\n",
    "\n",
    "\n"
   ]
  },
  {
   "cell_type": "code",
   "execution_count": 48,
   "metadata": {},
   "outputs": [
    {
     "data": {
      "text/plain": [
       "35"
      ]
     },
     "execution_count": 48,
     "metadata": {},
     "output_type": "execute_result"
    }
   ],
   "source": [
    "len(set([1,2,3]))\n",
    "len(test_examples)"
   ]
  },
  {
   "cell_type": "code",
   "execution_count": 49,
   "metadata": {},
   "outputs": [
    {
     "data": {
      "text/plain": [
       "12"
      ]
     },
     "execution_count": 49,
     "metadata": {},
     "output_type": "execute_result"
    }
   ],
   "source": [
    "d = {'1':1, '2':2, '3': 9}\n",
    "sum(d.values())"
   ]
  }
 ],
 "metadata": {
  "kernelspec": {
   "display_name": "base",
   "language": "python",
   "name": "python3"
  },
  "language_info": {
   "codemirror_mode": {
    "name": "ipython",
    "version": 3
   },
   "file_extension": ".py",
   "mimetype": "text/x-python",
   "name": "python",
   "nbconvert_exporter": "python",
   "pygments_lexer": "ipython3",
   "version": "3.12.4"
  }
 },
 "nbformat": 4,
 "nbformat_minor": 2
}
