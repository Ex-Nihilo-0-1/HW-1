{
 "cells": [
  {
   "cell_type": "code",
   "execution_count": 35,
   "metadata": {},
   "outputs": [
    {
     "name": "stdout",
     "output_type": "stream",
     "text": [
      "['0', '1']\n",
      "['0', '1']\n",
      "['0', '1']\n",
      "['0', '1']\n",
      "['0', '1']\n",
      "['0', '1']\n",
      "['0', '1']\n"
     ]
    },
    {
     "ename": "KeyError",
     "evalue": "'fruity'",
     "output_type": "error",
     "traceback": [
      "\u001b[0;31m---------------------------------------------------------------------------\u001b[0m",
      "\u001b[0;31mKeyError\u001b[0m                                  Traceback (most recent call last)",
      "Cell \u001b[0;32mIn[35], line 8\u001b[0m\n\u001b[1;32m      5\u001b[0m examples \u001b[38;5;241m=\u001b[39m parse\u001b[38;5;241m.\u001b[39mparse(\u001b[38;5;124m\"\u001b[39m\u001b[38;5;124mcandy.data\u001b[39m\u001b[38;5;124m\"\u001b[39m)\n\u001b[1;32m      6\u001b[0m importlib\u001b[38;5;241m.\u001b[39mreload(ID3)\n\u001b[0;32m----> 8\u001b[0m \u001b[43mID3\u001b[49m\u001b[38;5;241;43m.\u001b[39;49m\u001b[43mID3\u001b[49m\u001b[43m(\u001b[49m\u001b[43mexamples\u001b[49m\u001b[43m,\u001b[49m\u001b[38;5;241;43m0\u001b[39;49m\u001b[43m)\u001b[49m\n",
      "File \u001b[0;32m~/Library/CloudStorage/OneDrive-Personal/CS/Fall 2024/CS349/HW#1/ID3.py:101\u001b[0m, in \u001b[0;36mID3\u001b[0;34m(examples, default)\u001b[0m\n\u001b[1;32m     99\u001b[0m     \u001b[38;5;28;01mfor\u001b[39;00m e \u001b[38;5;129;01min\u001b[39;00m d_a:\n\u001b[1;32m    100\u001b[0m       \u001b[38;5;28;01mdel\u001b[39;00m e[a_star]\n\u001b[0;32m--> 101\u001b[0m     t\u001b[38;5;241m.\u001b[39mchildren[a] \u001b[38;5;241m=\u001b[39m \u001b[43mID3\u001b[49m\u001b[43m(\u001b[49m\u001b[43md_a\u001b[49m\u001b[43m,\u001b[49m\u001b[43m \u001b[49m\u001b[43mdefault\u001b[49m\u001b[43m)\u001b[49m\n\u001b[1;32m    103\u001b[0m \u001b[38;5;28;01mreturn\u001b[39;00m t\n",
      "File \u001b[0;32m~/Library/CloudStorage/OneDrive-Personal/CS/Fall 2024/CS349/HW#1/ID3.py:101\u001b[0m, in \u001b[0;36mID3\u001b[0;34m(examples, default)\u001b[0m\n\u001b[1;32m     99\u001b[0m     \u001b[38;5;28;01mfor\u001b[39;00m e \u001b[38;5;129;01min\u001b[39;00m d_a:\n\u001b[1;32m    100\u001b[0m       \u001b[38;5;28;01mdel\u001b[39;00m e[a_star]\n\u001b[0;32m--> 101\u001b[0m     t\u001b[38;5;241m.\u001b[39mchildren[a] \u001b[38;5;241m=\u001b[39m \u001b[43mID3\u001b[49m\u001b[43m(\u001b[49m\u001b[43md_a\u001b[49m\u001b[43m,\u001b[49m\u001b[43m \u001b[49m\u001b[43mdefault\u001b[49m\u001b[43m)\u001b[49m\n\u001b[1;32m    103\u001b[0m \u001b[38;5;28;01mreturn\u001b[39;00m t\n",
      "    \u001b[0;31m[... skipping similar frames: ID3 at line 101 (3 times)]\u001b[0m\n",
      "File \u001b[0;32m~/Library/CloudStorage/OneDrive-Personal/CS/Fall 2024/CS349/HW#1/ID3.py:101\u001b[0m, in \u001b[0;36mID3\u001b[0;34m(examples, default)\u001b[0m\n\u001b[1;32m     99\u001b[0m     \u001b[38;5;28;01mfor\u001b[39;00m e \u001b[38;5;129;01min\u001b[39;00m d_a:\n\u001b[1;32m    100\u001b[0m       \u001b[38;5;28;01mdel\u001b[39;00m e[a_star]\n\u001b[0;32m--> 101\u001b[0m     t\u001b[38;5;241m.\u001b[39mchildren[a] \u001b[38;5;241m=\u001b[39m \u001b[43mID3\u001b[49m\u001b[43m(\u001b[49m\u001b[43md_a\u001b[49m\u001b[43m,\u001b[49m\u001b[43m \u001b[49m\u001b[43mdefault\u001b[49m\u001b[43m)\u001b[49m\n\u001b[1;32m    103\u001b[0m \u001b[38;5;28;01mreturn\u001b[39;00m t\n",
      "File \u001b[0;32m~/Library/CloudStorage/OneDrive-Personal/CS/Fall 2024/CS349/HW#1/ID3.py:93\u001b[0m, in \u001b[0;36mID3\u001b[0;34m(examples, default)\u001b[0m\n\u001b[1;32m     91\u001b[0m \u001b[38;5;28mprint\u001b[39m(a_star_values)\n\u001b[1;32m     92\u001b[0m \u001b[38;5;28;01mfor\u001b[39;00m a \u001b[38;5;129;01min\u001b[39;00m a_star_values:\n\u001b[0;32m---> 93\u001b[0m   d_a \u001b[38;5;241m=\u001b[39m \u001b[43mget_da\u001b[49m\u001b[43m(\u001b[49m\u001b[43ma_star\u001b[49m\u001b[43m,\u001b[49m\u001b[43m \u001b[49m\u001b[43ma\u001b[49m\u001b[43m)\u001b[49m\n\u001b[1;32m     94\u001b[0m   \u001b[38;5;28;01mif\u001b[39;00m d_a \u001b[38;5;241m==\u001b[39m []:\n\u001b[1;32m     95\u001b[0m     child \u001b[38;5;241m=\u001b[39m Node()\n",
      "File \u001b[0;32m~/Library/CloudStorage/OneDrive-Personal/CS/Fall 2024/CS349/HW#1/ID3.py:30\u001b[0m, in \u001b[0;36mID3.<locals>.get_da\u001b[0;34m(attribute, value)\u001b[0m\n\u001b[1;32m     28\u001b[0m d_a \u001b[38;5;241m=\u001b[39m []\n\u001b[1;32m     29\u001b[0m \u001b[38;5;28;01mfor\u001b[39;00m e \u001b[38;5;129;01min\u001b[39;00m examples:\n\u001b[0;32m---> 30\u001b[0m   \u001b[38;5;28;01mif\u001b[39;00m \u001b[43me\u001b[49m\u001b[43m[\u001b[49m\u001b[43mattribute\u001b[49m\u001b[43m]\u001b[49m \u001b[38;5;241m==\u001b[39m value:\n\u001b[1;32m     31\u001b[0m     d_a \u001b[38;5;241m+\u001b[39m\u001b[38;5;241m=\u001b[39m [e]\n\u001b[1;32m     32\u001b[0m \u001b[38;5;28;01mreturn\u001b[39;00m d_a\n",
      "\u001b[0;31mKeyError\u001b[0m: 'fruity'"
     ]
    }
   ],
   "source": [
    "import parse\n",
    "import ID3\n",
    "import importlib\n",
    "\n",
    "examples = parse.parse(\"candy.data\")\n",
    "importlib.reload(ID3)\n",
    "\n",
    "ID3.ID3(examples,0)"
   ]
  },
  {
   "cell_type": "code",
   "execution_count": 141,
   "metadata": {},
   "outputs": [
    {
     "data": {
      "text/plain": [
       "4"
      ]
     },
     "execution_count": 141,
     "metadata": {},
     "output_type": "execute_result"
    }
   ],
   "source": [
    "ks = set([1,2,3,3,4])\n",
    "d = dict.fromkeys(ks,0)\n",
    "d[1]+= 1\n",
    "d\n",
    "len(list(ks))"
   ]
  },
  {
   "cell_type": "code",
   "execution_count": 152,
   "metadata": {},
   "outputs": [
    {
     "ename": "TypeError",
     "evalue": "unsupported operand type(s) for +: 'set' and 'set'",
     "output_type": "error",
     "traceback": [
      "\u001b[0;31m---------------------------------------------------------------------------\u001b[0m",
      "\u001b[0;31mTypeError\u001b[0m                                 Traceback (most recent call last)",
      "Cell \u001b[0;32mIn[152], line 1\u001b[0m\n\u001b[0;32m----> 1\u001b[0m {\u001b[38;5;241m2\u001b[39m} \u001b[38;5;241m+\u001b[39m {\u001b[38;5;241m1\u001b[39m}\n",
      "\u001b[0;31mTypeError\u001b[0m: unsupported operand type(s) for +: 'set' and 'set'"
     ]
    }
   ],
   "source": [
    "{} + {1}\n"
   ]
  },
  {
   "cell_type": "code",
   "execution_count": 1,
   "metadata": {},
   "outputs": [
    {
     "name": "stdout",
     "output_type": "stream",
     "text": [
      "3\n",
      "4\n",
      "5\n"
     ]
    }
   ],
   "source": [
    "import numpy as np\n",
    "np.log2(4)\n",
    "\n",
    "d = {1:3, 2:4, 3:5}\n",
    "for k in list(d.keys()):\n",
    "    print(d[k])"
   ]
  }
 ],
 "metadata": {
  "kernelspec": {
   "display_name": "Python 3",
   "language": "python",
   "name": "python3"
  },
  "language_info": {
   "codemirror_mode": {
    "name": "ipython",
    "version": 3
   },
   "file_extension": ".py",
   "mimetype": "text/x-python",
   "name": "python",
   "nbconvert_exporter": "python",
   "pygments_lexer": "ipython3",
   "version": "3.12.4"
  }
 },
 "nbformat": 4,
 "nbformat_minor": 2
}
