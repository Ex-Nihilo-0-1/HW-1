{
 "cells": [
  {
   "cell_type": "code",
   "execution_count": 19,
   "metadata": {},
   "outputs": [
    {
     "name": "stdout",
     "output_type": "stream",
     "text": [
      "                                                                                                                             \u001b[100m unacc                  \u001b[0m\n",
      "                                                                                                                             \u001b[100m SAFETY                 \u001b[0m\n",
      "                                                                                                                             \u001b[100m ['low', 'med', 'high'] \u001b[0m\n",
      "   ┌───────────────────────────────────────────────────────────────┬────────────────────────────────────────────────────────────────────┴────────────────────────────────────────────────────────────────────────────────────────────────────────────────────────────────────┐\n",
      "\u001b[100m unacc \u001b[0m                                                    \u001b[100m unacc            \u001b[0m                                                                                                                                                                                        \u001b[100m unacc            \u001b[0m                                                                                                                                   \n",
      "\u001b[100m None  \u001b[0m                                                    \u001b[100m PERSONS          \u001b[0m                                                                                                                                                                                        \u001b[100m PERSONS          \u001b[0m                                                                                                                                   \n",
      "\u001b[100m []    \u001b[0m                                                    \u001b[100m ['2', '5+', '4'] \u001b[0m                                                                                                                                                                                        \u001b[100m ['2', '5+', '4'] \u001b[0m                                                                                                                                   \n",
      "           ┌─────────────────────────────────────────┬─────────────┴───────────────────────────────────────────────────────┐                                                   ┌─────────────────────────────────────────────────────────┬───────────────────────────────────┴──────────────────────────────────────────────────────────────────────────────────────────────┐                                             \n",
      "        \u001b[100m unacc \u001b[0m                          \u001b[100m acc                      \u001b[0m                                        \u001b[100m acc                             \u001b[0m                                \u001b[100m unacc \u001b[0m                                      \u001b[100m acc                             \u001b[0m                                                                                                  \u001b[100m acc                             \u001b[0m                             \n",
      "        \u001b[100m None  \u001b[0m                          \u001b[100m BUYING                   \u001b[0m                                        \u001b[100m BUYING                          \u001b[0m                                \u001b[100m None  \u001b[0m                                      \u001b[100m BUYING                          \u001b[0m                                                                                                  \u001b[100m BUYING                          \u001b[0m                             \n",
      "        \u001b[100m []    \u001b[0m                          \u001b[100m ['vhigh', 'med', 'high'] \u001b[0m                                        \u001b[100m ['low', 'med', 'high', 'vhigh'] \u001b[0m                                \u001b[100m []    \u001b[0m                                      \u001b[100m ['vhigh', 'med', 'high', 'low'] \u001b[0m                                                                                                  \u001b[100m ['low', 'med', 'high', 'vhigh'] \u001b[0m                             \n",
      "                                ┌────────────────────┴───┬────────────────┐                ┌─────────────┬─────────────────┴────┬──────────────────────────┐                                ┌──────────────────────────┬─────────────────┴─────────────────┬───────────────────────────┐                                                   ┌────────────────────────────────┴───┬───────────┬────────────────┐            \n",
      "                \u001b[100m unacc                           \u001b[0m      \u001b[100m acc  \u001b[0m \u001b[100m acc                      \u001b[0m \u001b[100m acc  \u001b[0m \u001b[100m unacc             \u001b[0m \u001b[100m unacc                   \u001b[0m  \u001b[100m acc                     \u001b[0m            \u001b[100m acc             \u001b[0m       \u001b[100m vgood                  \u001b[0m           \u001b[100m acc                      \u001b[0m  \u001b[100m vgood                   \u001b[0m                       \u001b[100m good                            \u001b[0m            \u001b[100m vgood           \u001b[0m \u001b[100m acc  \u001b[0m \u001b[100m unacc                   \u001b[0m\n",
      "                \u001b[100m MAINT                           \u001b[0m      \u001b[100m None \u001b[0m \u001b[100m MAINT                    \u001b[0m \u001b[100m None \u001b[0m \u001b[100m MAINT             \u001b[0m \u001b[100m LUG_BOOT                \u001b[0m  \u001b[100m MAINT                   \u001b[0m            \u001b[100m MAINT           \u001b[0m       \u001b[100m DOORS                  \u001b[0m           \u001b[100m MAINT                    \u001b[0m  \u001b[100m LUG_BOOT                \u001b[0m                       \u001b[100m MAINT                           \u001b[0m            \u001b[100m MAINT           \u001b[0m \u001b[100m None \u001b[0m \u001b[100m MAINT                   \u001b[0m\n",
      "                \u001b[100m ['vhigh', 'med', 'high', 'low'] \u001b[0m      \u001b[100m []   \u001b[0m \u001b[100m ['vhigh', 'med', 'high'] \u001b[0m \u001b[100m []   \u001b[0m \u001b[100m ['vhigh', 'high'] \u001b[0m \u001b[100m ['big', 'med', 'small'] \u001b[0m  \u001b[100m ['low', 'med', 'vhigh'] \u001b[0m            \u001b[100m ['low', 'high'] \u001b[0m       \u001b[100m ['2', '3', '55+', '4'] \u001b[0m           \u001b[100m ['vhigh', 'high', 'low'] \u001b[0m  \u001b[100m ['big', 'med', 'small'] \u001b[0m                       \u001b[100m ['low', 'med', 'high', 'vhigh'] \u001b[0m            \u001b[100m ['low', 'high'] \u001b[0m \u001b[100m []   \u001b[0m \u001b[100m ['low', 'med', 'vhigh'] \u001b[0m\n",
      "                   ┌───────┬────┴──┬──────────┐                    ┌──────┼──────┐                   ┌───┴───┐          ┌───────┼───────┐       ┌──────────┼───────────┐                ┌───┴───┐        ┌──────┬──────┴┬────────────┐              ┌──────┼──────┐          ┌───────┬─┴──────────┐                 ┌──────────────────────┴──┬─────────────┬──────┐         ┌──┴───┐                 ┌──────┼───────┐    \n",
      "                \u001b[100m unacc \u001b[0m \u001b[100m unacc \u001b[0m \u001b[100m unacc \u001b[0m \u001b[100m unacc        \u001b[0m          \u001b[100m unacc \u001b[0m \u001b[100m acc  \u001b[0m \u001b[100m acc  \u001b[0m              \u001b[100m acc  \u001b[0m \u001b[100m unacc \u001b[0m     \u001b[100m acc  \u001b[0m \u001b[100m unacc \u001b[0m \u001b[100m unacc \u001b[0m  \u001b[100m acc  \u001b[0m  \u001b[100m unacc      \u001b[0m  \u001b[100m unacc \u001b[0m           \u001b[100m acc  \u001b[0m \u001b[100m unacc \u001b[0m  \u001b[100m vgood \u001b[0m \u001b[100m acc  \u001b[0m \u001b[100m vgood \u001b[0m \u001b[100m good            \u001b[0m   \u001b[100m unacc \u001b[0m \u001b[100m acc  \u001b[0m \u001b[100m acc  \u001b[0m    \u001b[100m vgood \u001b[0m \u001b[100m vgood \u001b[0m \u001b[100m good            \u001b[0m    \u001b[100m good       \u001b[0m           \u001b[100m good             \u001b[0m \u001b[100m vgood \u001b[0m \u001b[100m acc  \u001b[0m   \u001b[100m vgood \u001b[0m \u001b[100m acc  \u001b[0m            \u001b[100m acc  \u001b[0m \u001b[100m acc  \u001b[0m \u001b[100m unacc \u001b[0m \n",
      "                \u001b[100m None  \u001b[0m \u001b[100m None  \u001b[0m \u001b[100m None  \u001b[0m \u001b[100m DOORS        \u001b[0m          \u001b[100m None  \u001b[0m \u001b[100m None \u001b[0m \u001b[100m None \u001b[0m              \u001b[100m None \u001b[0m \u001b[100m None  \u001b[0m     \u001b[100m None \u001b[0m \u001b[100m None  \u001b[0m \u001b[100m None  \u001b[0m  \u001b[100m None \u001b[0m  \u001b[100m DOORS      \u001b[0m  \u001b[100m None  \u001b[0m           \u001b[100m None \u001b[0m \u001b[100m None  \u001b[0m  \u001b[100m None  \u001b[0m \u001b[100m None \u001b[0m \u001b[100m None  \u001b[0m \u001b[100m MAINT           \u001b[0m   \u001b[100m None  \u001b[0m \u001b[100m None \u001b[0m \u001b[100m None \u001b[0m    \u001b[100m None  \u001b[0m \u001b[100m None  \u001b[0m \u001b[100m MAINT           \u001b[0m    \u001b[100m DOORS      \u001b[0m           \u001b[100m LUG_BOOT         \u001b[0m \u001b[100m None  \u001b[0m \u001b[100m None \u001b[0m   \u001b[100m None  \u001b[0m \u001b[100m None \u001b[0m            \u001b[100m None \u001b[0m \u001b[100m None \u001b[0m \u001b[100m None  \u001b[0m \n",
      "                \u001b[100m []    \u001b[0m \u001b[100m []    \u001b[0m \u001b[100m []    \u001b[0m \u001b[100m ['2', '55+'] \u001b[0m          \u001b[100m []    \u001b[0m \u001b[100m []   \u001b[0m \u001b[100m []   \u001b[0m              \u001b[100m []   \u001b[0m \u001b[100m []    \u001b[0m     \u001b[100m []   \u001b[0m \u001b[100m []    \u001b[0m \u001b[100m []    \u001b[0m  \u001b[100m []   \u001b[0m  \u001b[100m ['3', '4'] \u001b[0m  \u001b[100m []    \u001b[0m           \u001b[100m []   \u001b[0m \u001b[100m []    \u001b[0m  \u001b[100m []    \u001b[0m \u001b[100m []   \u001b[0m \u001b[100m []    \u001b[0m \u001b[100m ['low', 'high'] \u001b[0m   \u001b[100m []    \u001b[0m \u001b[100m []   \u001b[0m \u001b[100m []   \u001b[0m    \u001b[100m []    \u001b[0m \u001b[100m []    \u001b[0m \u001b[100m ['low', 'high'] \u001b[0m    \u001b[100m ['2', '4'] \u001b[0m           \u001b[100m ['big', 'small'] \u001b[0m \u001b[100m []    \u001b[0m \u001b[100m []   \u001b[0m   \u001b[100m []    \u001b[0m \u001b[100m []   \u001b[0m            \u001b[100m []   \u001b[0m \u001b[100m []   \u001b[0m \u001b[100m []    \u001b[0m \n",
      "                                          ┌───┴───┐                                                                                                     ┌──┴───┐                                                                  ┌──┴───┐                                                     ┌──┴───┐       ┌─────┴──────┐               ┌──┴───┐                                                                       \n",
      "                                        \u001b[100m acc  \u001b[0m \u001b[100m unacc \u001b[0m                                                                                               \u001b[100m unacc \u001b[0m \u001b[100m acc  \u001b[0m                                                             \u001b[100m good \u001b[0m \u001b[100m acc  \u001b[0m                                                \u001b[100m good \u001b[0m \u001b[100m acc  \u001b[0m  \u001b[100m good \u001b[0m \u001b[100m good             \u001b[0m   \u001b[100m vgood \u001b[0m \u001b[100m good \u001b[0m                                                                    \n",
      "                                        \u001b[100m None \u001b[0m \u001b[100m None  \u001b[0m                                                                                               \u001b[100m None  \u001b[0m \u001b[100m None \u001b[0m                                                             \u001b[100m None \u001b[0m \u001b[100m None \u001b[0m                                                \u001b[100m None \u001b[0m \u001b[100m None \u001b[0m  \u001b[100m None \u001b[0m \u001b[100m LUG_BOOT         \u001b[0m   \u001b[100m None  \u001b[0m \u001b[100m None \u001b[0m                                                                    \n",
      "                                        \u001b[100m []   \u001b[0m \u001b[100m []    \u001b[0m                                                                                               \u001b[100m []    \u001b[0m \u001b[100m []   \u001b[0m                                                             \u001b[100m []   \u001b[0m \u001b[100m []   \u001b[0m                                                \u001b[100m []   \u001b[0m \u001b[100m []   \u001b[0m  \u001b[100m []   \u001b[0m \u001b[100m ['med', 'small'] \u001b[0m   \u001b[100m []    \u001b[0m \u001b[100m []   \u001b[0m                                                                    \n",
      "                                                                                                                                                                                                                                                                                                                        ┌──┴───┐                                                                                          \n",
      "                                                                                                                                                                                                                                                                                                                     \u001b[100m vgood \u001b[0m \u001b[100m good \u001b[0m                                                                                       \n",
      "                                                                                                                                                                                                                                                                                                                     \u001b[100m None  \u001b[0m \u001b[100m None \u001b[0m                                                                                       \n",
      "                                                                                                                                                                                                                                                                                                                     \u001b[100m []    \u001b[0m \u001b[100m []   \u001b[0m\n"
     ]
    }
   ],
   "source": [
    "import parse\n",
    "import ID3\n",
    "import importlib\n",
    "import node\n",
    "from PrettyPrint import PrettyPrintTree\n",
    "\n",
    "train_examples = parse.parse(\"cars_train.data\")\n",
    "test_examples = parse.parse(\"cars_test.data\")\n",
    "valid_examples = parse.parse(\"cars_valid.data\")\n",
    "importlib.reload(ID3)\n",
    "importlib.reload(node)\n",
    "\n",
    "t = ID3.ID3(train_examples, 0)\n",
    "\n",
    "pt = PrettyPrintTree(lambda x: list(x.children.values()), lambda x: str(x.label) + \"\\n\" + str(x.decision_label)+ \"\\n\" + str(list(x.children.keys())))\n",
    "\n",
    "pt(t)"
   ]
  },
  {
   "cell_type": "code",
   "execution_count": 20,
   "metadata": {},
   "outputs": [
    {
     "data": {
      "text/plain": [
       "(1.0, 0.8, 0.7142857142857143)"
      ]
     },
     "execution_count": 20,
     "metadata": {},
     "output_type": "execute_result"
    }
   ],
   "source": [
    "(ID3.test(t, train_examples), ID3.test(t, valid_examples), ID3.test(t, test_examples))"
   ]
  },
  {
   "cell_type": "code",
   "execution_count": 21,
   "metadata": {},
   "outputs": [],
   "source": [
    "\n",
    "ID3.prune(t, valid_examples)\n"
   ]
  },
  {
   "cell_type": "code",
   "execution_count": 22,
   "metadata": {},
   "outputs": [
    {
     "data": {
      "text/plain": [
       "(0.985, 0.8, 0.6857142857142857)"
      ]
     },
     "execution_count": 22,
     "metadata": {},
     "output_type": "execute_result"
    }
   ],
   "source": [
    "\n",
    "(ID3.test(t, train_examples), ID3.test(t, valid_examples), ID3.test(t, test_examples))"
   ]
  },
  {
   "cell_type": "code",
   "execution_count": 23,
   "metadata": {},
   "outputs": [
    {
     "name": "stdout",
     "output_type": "stream",
     "text": [
      "                                                                                                            \u001b[100m unacc                  \u001b[0m\n",
      "                                                                                                            \u001b[100m SAFETY                 \u001b[0m\n",
      "                                                                                                            \u001b[100m ['low', 'med', 'high'] \u001b[0m\n",
      "   ┌──────────────────────────────────────────────────────┬────────────────────────────────────────────────────────────┴───────────────────────────────────────────────────────────────────────────────────────────────────────────────────┐\n",
      "\u001b[100m unacc \u001b[0m                                           \u001b[100m unacc            \u001b[0m                                                                                                                                                               \u001b[100m unacc            \u001b[0m                                                                                                                 \n",
      "\u001b[100m None  \u001b[0m                                           \u001b[100m PERSONS          \u001b[0m                                                                                                                                                               \u001b[100m PERSONS          \u001b[0m                                                                                                                 \n",
      "\u001b[100m []    \u001b[0m                                           \u001b[100m ['2', '5+', '4'] \u001b[0m                                                                                                                                                               \u001b[100m ['2', '5+', '4'] \u001b[0m                                                                                                                 \n",
      "           ┌─────────────────────────────────┬────────────┴──────────────────────────────────────────────┐                                           ┌─────────────────────────────────────────────────────────┬───────────────────────────┴──────────────────────────────────────────────────────────────────────────────────────┐                                   \n",
      "        \u001b[100m unacc \u001b[0m                  \u001b[100m acc                      \u001b[0m                              \u001b[100m acc                             \u001b[0m                        \u001b[100m unacc \u001b[0m                                      \u001b[100m acc                             \u001b[0m                                                                                  \u001b[100m acc                             \u001b[0m                   \n",
      "        \u001b[100m None  \u001b[0m                  \u001b[100m BUYING                   \u001b[0m                              \u001b[100m BUYING                          \u001b[0m                        \u001b[100m None  \u001b[0m                                      \u001b[100m BUYING                          \u001b[0m                                                                                  \u001b[100m BUYING                          \u001b[0m                   \n",
      "        \u001b[100m []    \u001b[0m                  \u001b[100m ['vhigh', 'med', 'high'] \u001b[0m                              \u001b[100m ['low', 'med', 'high', 'vhigh'] \u001b[0m                        \u001b[100m []    \u001b[0m                                      \u001b[100m ['vhigh', 'med', 'high', 'low'] \u001b[0m                                                                                  \u001b[100m ['low', 'med', 'high', 'vhigh'] \u001b[0m                   \n",
      "                            ┌────────────────┴───┬─────────────┐            ┌─────────────┬──────────────┴───────┬─────────────────────┐                          ┌──────────────────────────┬─────────────────┴─────────────────┬───────────────────────────┐                                          ┌─────────────────────────┴┬───────────┬────────────┐         \n",
      "                \u001b[100m unacc                    \u001b[0m     \u001b[100m acc  \u001b[0m \u001b[100m acc               \u001b[0m \u001b[100m acc  \u001b[0m \u001b[100m unacc             \u001b[0m \u001b[100m unacc                   \u001b[0m \u001b[100m acc              \u001b[0m         \u001b[100m acc             \u001b[0m       \u001b[100m vgood                  \u001b[0m           \u001b[100m acc                      \u001b[0m  \u001b[100m vgood                   \u001b[0m                  \u001b[100m good                     \u001b[0m     \u001b[100m vgood           \u001b[0m \u001b[100m acc  \u001b[0m \u001b[100m unacc            \u001b[0m\n",
      "                \u001b[100m MAINT                    \u001b[0m     \u001b[100m None \u001b[0m \u001b[100m MAINT             \u001b[0m \u001b[100m None \u001b[0m \u001b[100m MAINT             \u001b[0m \u001b[100m LUG_BOOT                \u001b[0m \u001b[100m MAINT            \u001b[0m         \u001b[100m MAINT           \u001b[0m       \u001b[100m DOORS                  \u001b[0m           \u001b[100m MAINT                    \u001b[0m  \u001b[100m LUG_BOOT                \u001b[0m                  \u001b[100m MAINT                    \u001b[0m     \u001b[100m MAINT           \u001b[0m \u001b[100m None \u001b[0m \u001b[100m MAINT            \u001b[0m\n",
      "                \u001b[100m ['vhigh', 'high', 'low'] \u001b[0m     \u001b[100m []   \u001b[0m \u001b[100m ['vhigh', 'high'] \u001b[0m \u001b[100m []   \u001b[0m \u001b[100m ['vhigh', 'high'] \u001b[0m \u001b[100m ['big', 'med', 'small'] \u001b[0m \u001b[100m ['low', 'vhigh'] \u001b[0m         \u001b[100m ['low', 'high'] \u001b[0m       \u001b[100m ['2', '3', '55+', '4'] \u001b[0m           \u001b[100m ['vhigh', 'high', 'low'] \u001b[0m  \u001b[100m ['big', 'med', 'small'] \u001b[0m                  \u001b[100m ['low', 'high', 'vhigh'] \u001b[0m     \u001b[100m ['low', 'high'] \u001b[0m \u001b[100m []   \u001b[0m \u001b[100m ['low', 'vhigh'] \u001b[0m\n",
      "                   ┌───────┬┴─────────┐                     ┌──┴───┐                  ┌───┴───┐          ┌───────┼───────┐         ┌───┴───┐                  ┌───┴───┐        ┌──────┬──────┴┬────────────┐              ┌──────┼──────┐          ┌───────┬─┴──────────┐                 ┌─────────────┴──────┬──────┐         ┌──┴───┐                ┌───┴───┐     \n",
      "                \u001b[100m unacc \u001b[0m \u001b[100m unacc \u001b[0m \u001b[100m unacc        \u001b[0m           \u001b[100m unacc \u001b[0m \u001b[100m acc  \u001b[0m             \u001b[100m acc  \u001b[0m \u001b[100m unacc \u001b[0m     \u001b[100m acc  \u001b[0m \u001b[100m unacc \u001b[0m \u001b[100m unacc \u001b[0m    \u001b[100m acc  \u001b[0m \u001b[100m unacc \u001b[0m             \u001b[100m acc  \u001b[0m \u001b[100m unacc \u001b[0m  \u001b[100m vgood \u001b[0m \u001b[100m acc  \u001b[0m \u001b[100m vgood \u001b[0m \u001b[100m good            \u001b[0m   \u001b[100m unacc \u001b[0m \u001b[100m acc  \u001b[0m \u001b[100m acc  \u001b[0m    \u001b[100m vgood \u001b[0m \u001b[100m vgood \u001b[0m \u001b[100m good            \u001b[0m    \u001b[100m good       \u001b[0m           \u001b[100m vgood \u001b[0m \u001b[100m acc  \u001b[0m   \u001b[100m vgood \u001b[0m \u001b[100m acc  \u001b[0m           \u001b[100m acc  \u001b[0m \u001b[100m unacc \u001b[0m  \n",
      "                \u001b[100m None  \u001b[0m \u001b[100m None  \u001b[0m \u001b[100m DOORS        \u001b[0m           \u001b[100m None  \u001b[0m \u001b[100m None \u001b[0m             \u001b[100m None \u001b[0m \u001b[100m None  \u001b[0m     \u001b[100m None \u001b[0m \u001b[100m None  \u001b[0m \u001b[100m None  \u001b[0m    \u001b[100m None \u001b[0m \u001b[100m None  \u001b[0m             \u001b[100m None \u001b[0m \u001b[100m None  \u001b[0m  \u001b[100m None  \u001b[0m \u001b[100m None \u001b[0m \u001b[100m None  \u001b[0m \u001b[100m MAINT           \u001b[0m   \u001b[100m None  \u001b[0m \u001b[100m None \u001b[0m \u001b[100m None \u001b[0m    \u001b[100m None  \u001b[0m \u001b[100m None  \u001b[0m \u001b[100m MAINT           \u001b[0m    \u001b[100m DOORS      \u001b[0m           \u001b[100m None  \u001b[0m \u001b[100m None \u001b[0m   \u001b[100m None  \u001b[0m \u001b[100m None \u001b[0m           \u001b[100m None \u001b[0m \u001b[100m None  \u001b[0m  \n",
      "                \u001b[100m []    \u001b[0m \u001b[100m []    \u001b[0m \u001b[100m ['2', '55+'] \u001b[0m           \u001b[100m []    \u001b[0m \u001b[100m []   \u001b[0m             \u001b[100m []   \u001b[0m \u001b[100m []    \u001b[0m     \u001b[100m []   \u001b[0m \u001b[100m []    \u001b[0m \u001b[100m []    \u001b[0m    \u001b[100m []   \u001b[0m \u001b[100m []    \u001b[0m             \u001b[100m []   \u001b[0m \u001b[100m []    \u001b[0m  \u001b[100m []    \u001b[0m \u001b[100m []   \u001b[0m \u001b[100m []    \u001b[0m \u001b[100m ['low', 'high'] \u001b[0m   \u001b[100m []    \u001b[0m \u001b[100m []   \u001b[0m \u001b[100m []   \u001b[0m    \u001b[100m []    \u001b[0m \u001b[100m []    \u001b[0m \u001b[100m ['low', 'high'] \u001b[0m    \u001b[100m ['2', '4'] \u001b[0m           \u001b[100m []    \u001b[0m \u001b[100m []   \u001b[0m   \u001b[100m []    \u001b[0m \u001b[100m []   \u001b[0m           \u001b[100m []   \u001b[0m \u001b[100m []    \u001b[0m  \n",
      "                                  ┌───┴───┐                                                                                                                                                             ┌──┴───┐                                                     ┌──┴───┐       ┌─────┴──────┐                                                                    \n",
      "                                \u001b[100m acc  \u001b[0m \u001b[100m unacc \u001b[0m                                                                                                                                                        \u001b[100m good \u001b[0m \u001b[100m acc  \u001b[0m                                                \u001b[100m good \u001b[0m \u001b[100m acc  \u001b[0m  \u001b[100m good \u001b[0m \u001b[100m good             \u001b[0m                                                           \n",
      "                                \u001b[100m None \u001b[0m \u001b[100m None  \u001b[0m                                                                                                                                                        \u001b[100m None \u001b[0m \u001b[100m None \u001b[0m                                                \u001b[100m None \u001b[0m \u001b[100m None \u001b[0m  \u001b[100m None \u001b[0m \u001b[100m LUG_BOOT         \u001b[0m                                                           \n",
      "                                \u001b[100m []   \u001b[0m \u001b[100m []    \u001b[0m                                                                                                                                                        \u001b[100m []   \u001b[0m \u001b[100m []   \u001b[0m                                                \u001b[100m []   \u001b[0m \u001b[100m []   \u001b[0m  \u001b[100m []   \u001b[0m \u001b[100m ['med', 'small'] \u001b[0m                                                           \n",
      "                                                                                                                                                                                                                                                                                              ┌──┴───┐                                                                \n",
      "                                                                                                                                                                                                                                                                                           \u001b[100m vgood \u001b[0m \u001b[100m good \u001b[0m                                                             \n",
      "                                                                                                                                                                                                                                                                                           \u001b[100m None  \u001b[0m \u001b[100m None \u001b[0m                                                             \n",
      "                                                                                                                                                                                                                                                                                           \u001b[100m []    \u001b[0m \u001b[100m []   \u001b[0m\n"
     ]
    }
   ],
   "source": [
    "pt(t)"
   ]
  },
  {
   "cell_type": "code",
   "execution_count": 24,
   "metadata": {},
   "outputs": [
    {
     "ename": "NameError",
     "evalue": "name 'mg' is not defined",
     "output_type": "error",
     "traceback": [
      "\u001b[0;31m---------------------------------------------------------------------------\u001b[0m",
      "\u001b[0;31mNameError\u001b[0m                                 Traceback (most recent call last)",
      "Cell \u001b[0;32mIn[24], line 2\u001b[0m\n\u001b[1;32m      1\u001b[0m \u001b[38;5;28;01mimport\u001b[39;00m \u001b[38;5;21;01munit_tests\u001b[39;00m \u001b[38;5;28;01mas\u001b[39;00m \u001b[38;5;21;01mut\u001b[39;00m\n\u001b[0;32m----> 2\u001b[0m mg\u001b[38;5;241m.\u001b[39mmini_grader()\n",
      "\u001b[0;31mNameError\u001b[0m: name 'mg' is not defined"
     ]
    }
   ],
   "source": [
    "import unit_tests as ut\n",
    "mg.mini_grader()\n",
    "\n",
    "\n"
   ]
  },
  {
   "cell_type": "code",
   "execution_count": 19,
   "metadata": {},
   "outputs": [
    {
     "data": {
      "text/plain": [
       "3"
      ]
     },
     "execution_count": 19,
     "metadata": {},
     "output_type": "execute_result"
    }
   ],
   "source": [
    "len(set([1,2,3]))"
   ]
  }
 ],
 "metadata": {
  "kernelspec": {
   "display_name": "base",
   "language": "python",
   "name": "python3"
  },
  "language_info": {
   "codemirror_mode": {
    "name": "ipython",
    "version": 3
   },
   "file_extension": ".py",
   "mimetype": "text/x-python",
   "name": "python",
   "nbconvert_exporter": "python",
   "pygments_lexer": "ipython3",
   "version": "3.12.4"
  }
 },
 "nbformat": 4,
 "nbformat_minor": 2
}
