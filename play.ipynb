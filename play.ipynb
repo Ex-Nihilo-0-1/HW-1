{
 "cells": [
  {
   "cell_type": "code",
   "execution_count": 95,
   "metadata": {},
   "outputs": [
    {
     "name": "stdout",
     "output_type": "stream",
     "text": [
      "                                                                                                                                                                                           \u001b[100m PERSONS          \u001b[0m\n",
      "                                                                                                                                                                                           \u001b[100m unacc            \u001b[0m\n",
      "                                                                                                                                                                                           \u001b[100m ['4', '5+', '2'] \u001b[0m\n",
      "                                                          ┌────────────────────────────────────────────────────────────────────────────────────────────────────────────────────────────────────────┴────┬───────────────────────────────────────────────────────────────────────────────────────────────────────────────────────────────────┐\n",
      "                                               \u001b[100m SAFETY                 \u001b[0m                                                                                                                     \u001b[100m LUG_BOOT                \u001b[0m                                                                                                       \u001b[100m BUYING                          \u001b[0m                             \n",
      "                                               \u001b[100m acc                    \u001b[0m                                                                                                                     \u001b[100m unacc                   \u001b[0m                                                                                                       \u001b[100m unacc                           \u001b[0m                             \n",
      "                                               \u001b[100m ['med', 'low', 'high'] \u001b[0m                                                                                                                     \u001b[100m ['med', 'small', 'big'] \u001b[0m                                                                                                       \u001b[100m ['med', 'vhigh', 'low', 'high'] \u001b[0m                             \n",
      "                         ┌────────────────────────────────┴───────┬────────────────────────┐                                         ┌───────────────────────────────────────────────────────────┬──────┴──────────────────────────────────────────────────────────────────┐                              ┌──────────────────────┬──────────┴──────────┬──────────────────────┐           \n",
      "                    \u001b[100m DOORS      \u001b[0m                          \u001b[100m BUYING          \u001b[0m        \u001b[100m BUYING          \u001b[0m                         \u001b[100m SAFETY          \u001b[0m                                   \u001b[100m BUYING                          \u001b[0m                                                    \u001b[100m DOORS      \u001b[0m               \u001b[100m MAINT             \u001b[0m     \u001b[100m MAINT           \u001b[0m     \u001b[100m MAINT            \u001b[0m     \u001b[100m MAINT            \u001b[0m  \n",
      "                    \u001b[100m acc        \u001b[0m                          \u001b[100m unacc           \u001b[0m        \u001b[100m acc             \u001b[0m                         \u001b[100m acc             \u001b[0m                                   \u001b[100m unacc                           \u001b[0m                                                    \u001b[100m unacc      \u001b[0m               \u001b[100m unacc             \u001b[0m     \u001b[100m unacc           \u001b[0m     \u001b[100m unacc            \u001b[0m     \u001b[100m unacc            \u001b[0m  \n",
      "                    \u001b[100m ['4', '2'] \u001b[0m                          \u001b[100m ['med', 'high'] \u001b[0m        \u001b[100m ['low', 'high'] \u001b[0m                         \u001b[100m ['med', 'high'] \u001b[0m                                   \u001b[100m ['med', 'vhigh', 'low', 'high'] \u001b[0m                                                    \u001b[100m ['4', '3'] \u001b[0m               \u001b[100m ['vhigh', 'high'] \u001b[0m     \u001b[100m ['low', 'high'] \u001b[0m     \u001b[100m ['med', 'vhigh'] \u001b[0m     \u001b[100m ['vhigh', 'low'] \u001b[0m  \n",
      "          ┌──────────────┴──────────────┐                   ┌─────┴─────┐          ┌───────┴────────┐                     ┌──────────┴──────────┐                   ┌───────────┬────────────────┴┬───────────────────────────┐                               ┌────────────┴─────────────┐           ┌────┴─────┐           ┌────┴─────┐          ┌────┴─────┐          ┌─────┴─────┐     \n",
      "   \u001b[100m BUYING         \u001b[0m             \u001b[100m BUYING           \u001b[0m      \u001b[100m MAINT    \u001b[0m \u001b[100m MAINT     \u001b[0m \u001b[100m MAINT   \u001b[0m     \u001b[100m MAINT          \u001b[0m     \u001b[100m BUYING           \u001b[0m    \u001b[100m BUYING           \u001b[0m     \u001b[100m MAINT     \u001b[0m \u001b[100m MAINT     \u001b[0m     \u001b[100m MAINT          \u001b[0m               \u001b[100m MAINT   \u001b[0m                \u001b[100m BUYING                 \u001b[0m         \u001b[100m BUYING    \u001b[0m   \u001b[100m DOORS \u001b[0m    \u001b[100m DOORS \u001b[0m     \u001b[100m DOORS \u001b[0m   \u001b[100m DOORS   \u001b[0m   \u001b[100m DOORS \u001b[0m    \u001b[100m DOORS \u001b[0m    \u001b[100m DOORS \u001b[0m    \u001b[100m DOORS   \u001b[0m \n",
      "   \u001b[100m acc            \u001b[0m             \u001b[100m acc              \u001b[0m      \u001b[100m unacc    \u001b[0m \u001b[100m unacc     \u001b[0m \u001b[100m vgood   \u001b[0m     \u001b[100m acc            \u001b[0m     \u001b[100m good             \u001b[0m    \u001b[100m acc              \u001b[0m     \u001b[100m unacc     \u001b[0m \u001b[100m unacc     \u001b[0m     \u001b[100m unacc          \u001b[0m               \u001b[100m unacc   \u001b[0m                \u001b[100m unacc                  \u001b[0m         \u001b[100m unacc     \u001b[0m   \u001b[100m unacc \u001b[0m    \u001b[100m unacc \u001b[0m     \u001b[100m unacc \u001b[0m   \u001b[100m unacc   \u001b[0m   \u001b[100m unacc \u001b[0m    \u001b[100m unacc \u001b[0m    \u001b[100m unacc \u001b[0m    \u001b[100m unacc   \u001b[0m \n",
      "   \u001b[100m ['med', 'low'] \u001b[0m             \u001b[100m ['med', 'vhigh'] \u001b[0m      \u001b[100m ['high'] \u001b[0m \u001b[100m ['vhigh'] \u001b[0m \u001b[100m ['med'] \u001b[0m     \u001b[100m ['med', 'low'] \u001b[0m     \u001b[100m ['vhigh', 'low'] \u001b[0m    \u001b[100m ['med', 'vhigh'] \u001b[0m     \u001b[100m ['vhigh'] \u001b[0m \u001b[100m ['vhigh'] \u001b[0m     \u001b[100m ['med', 'low'] \u001b[0m               \u001b[100m ['med'] \u001b[0m                \u001b[100m ['med', 'low', 'high'] \u001b[0m         \u001b[100m ['vhigh'] \u001b[0m   \u001b[100m ['2'] \u001b[0m    \u001b[100m ['2'] \u001b[0m     \u001b[100m ['3'] \u001b[0m   \u001b[100m ['55+'] \u001b[0m   \u001b[100m ['2'] \u001b[0m    \u001b[100m ['3'] \u001b[0m    \u001b[100m ['3'] \u001b[0m    \u001b[100m ['55+'] \u001b[0m \n",
      "    ┌─────┴─────┐               ┌───────┴────────┐          |           |          |           ┌────┴─────┐          ┌────┴────┐          ┌─────┴─────┐             |           |          ┌──────┴───────┐                   |               ┌───────────────┼───────────────┐          |           |          |           |          |          |          |          |           |     \n",
      "\u001b[100m MAINT   \u001b[0m  \u001b[100m MAINT     \u001b[0m  \u001b[100m MAINT           \u001b[0m    \u001b[100m MAINT    \u001b[0m  \u001b[100m DOORS \u001b[0m     \u001b[100m DOORS \u001b[0m   \u001b[100m DOORS   \u001b[0m    \u001b[100m DOORS \u001b[0m    \u001b[100m DOORS \u001b[0m   \u001b[100m MAINT   \u001b[0m \u001b[100m MAINT   \u001b[0m \u001b[100m MAINT     \u001b[0m  \u001b[100m MAINT   \u001b[0m      \u001b[100m DOORS \u001b[0m    \u001b[100m DOORS   \u001b[0m  \u001b[100m DOORS   \u001b[0m     \u001b[100m DOORS      \u001b[0m       \u001b[100m DOORS        \u001b[0m   \u001b[100m MAINT     \u001b[0m  \u001b[100m MAINT           \u001b[0m   \u001b[100m MAINT   \u001b[0m \u001b[100m MAINT     \u001b[0m \u001b[100m LUG_BOOT  \u001b[0m \u001b[100m LUG_BOOT \u001b[0m \u001b[100m LUG_BOOT  \u001b[0m \u001b[100m LUG_BOOT \u001b[0m \u001b[100m LUG_BOOT \u001b[0m \u001b[100m LUG_BOOT \u001b[0m \u001b[100m LUG_BOOT \u001b[0m \u001b[100m LUG_BOOT  \u001b[0m\n",
      "\u001b[100m acc     \u001b[0m  \u001b[100m acc       \u001b[0m  \u001b[100m acc             \u001b[0m    \u001b[100m unacc    \u001b[0m  \u001b[100m unacc \u001b[0m     \u001b[100m unacc \u001b[0m   \u001b[100m vgood   \u001b[0m    \u001b[100m acc   \u001b[0m    \u001b[100m acc   \u001b[0m   \u001b[100m unacc   \u001b[0m \u001b[100m good    \u001b[0m \u001b[100m acc       \u001b[0m  \u001b[100m acc     \u001b[0m      \u001b[100m unacc \u001b[0m    \u001b[100m unacc   \u001b[0m  \u001b[100m unacc   \u001b[0m     \u001b[100m unacc      \u001b[0m       \u001b[100m unacc        \u001b[0m   \u001b[100m unacc     \u001b[0m  \u001b[100m vgood           \u001b[0m   \u001b[100m unacc   \u001b[0m \u001b[100m unacc     \u001b[0m \u001b[100m unacc     \u001b[0m \u001b[100m unacc    \u001b[0m \u001b[100m unacc     \u001b[0m \u001b[100m unacc    \u001b[0m \u001b[100m unacc    \u001b[0m \u001b[100m unacc    \u001b[0m \u001b[100m unacc    \u001b[0m \u001b[100m unacc     \u001b[0m\n",
      "\u001b[100m ['med'] \u001b[0m  \u001b[100m ['vhigh'] \u001b[0m  \u001b[100m ['med', 'high'] \u001b[0m    \u001b[100m ['high'] \u001b[0m  \u001b[100m ['2'] \u001b[0m     \u001b[100m ['3'] \u001b[0m   \u001b[100m ['55+'] \u001b[0m    \u001b[100m ['2'] \u001b[0m    \u001b[100m ['3'] \u001b[0m   \u001b[100m ['low'] \u001b[0m \u001b[100m ['med'] \u001b[0m \u001b[100m ['vhigh'] \u001b[0m  \u001b[100m ['med'] \u001b[0m      \u001b[100m ['2'] \u001b[0m    \u001b[100m ['55+'] \u001b[0m  \u001b[100m ['55+'] \u001b[0m     \u001b[100m ['4', '2'] \u001b[0m       \u001b[100m ['55+', '2'] \u001b[0m   \u001b[100m ['vhigh'] \u001b[0m  \u001b[100m ['low', 'high'] \u001b[0m   \u001b[100m ['low'] \u001b[0m \u001b[100m ['vhigh'] \u001b[0m \u001b[100m ['small'] \u001b[0m \u001b[100m ['big']  \u001b[0m \u001b[100m ['small'] \u001b[0m \u001b[100m ['big']  \u001b[0m \u001b[100m ['med']  \u001b[0m \u001b[100m ['med']  \u001b[0m \u001b[100m ['big']  \u001b[0m \u001b[100m ['small'] \u001b[0m\n",
      "    |           |          ┌────┴─────┐          |          |           |          |           |          |          |         |          |           |             |           |          |         ┌────┴────┐         ┌────┴────┐          |          ┌────┴─────┐         |          |           |          |           |          |          |          |          |           |     \n",
      "\u001b[100m LUG_BOOT \u001b[0m  \u001b[100m LUG_BOOT \u001b[0m \u001b[100m LUG_BOOT \u001b[0m \u001b[100m LUG_BOOT \u001b[0m \u001b[100m LUG_BOOT \u001b[0m \u001b[100m LUG_BOOT \u001b[0m \u001b[100m LUG_BOOT  \u001b[0m \u001b[100m LUG_BOOT \u001b[0m \u001b[100m LUG_BOOT  \u001b[0m \u001b[100m LUG_BOOT \u001b[0m  \u001b[100m DOORS \u001b[0m   \u001b[100m DOORS \u001b[0m   \u001b[100m DOORS   \u001b[0m  \u001b[100m DOORS      \u001b[0m   \u001b[100m SAFETY   \u001b[0m  \u001b[100m SAFETY  \u001b[0m  \u001b[100m SAFETY  \u001b[0m \u001b[100m SAFETY  \u001b[0m \u001b[100m SAFETY  \u001b[0m \u001b[100m SAFETY  \u001b[0m \u001b[100m SAFETY  \u001b[0m  \u001b[100m SAFETY  \u001b[0m  \u001b[100m SAFETY   \u001b[0m \u001b[100m SAFETY  \u001b[0m \u001b[100m SAFETY  \u001b[0m  \u001b[100m SAFETY  \u001b[0m   \u001b[100m SAFETY   \u001b[0m \u001b[100m SAFETY  \u001b[0m   \u001b[100m SAFETY  \u001b[0m  \u001b[100m SAFETY  \u001b[0m  \u001b[100m SAFETY  \u001b[0m  \u001b[100m SAFETY  \u001b[0m  \u001b[100m SAFETY   \u001b[0m  \u001b[100m SAFETY  \u001b[0m \n",
      "\u001b[100m acc      \u001b[0m  \u001b[100m acc      \u001b[0m \u001b[100m acc      \u001b[0m \u001b[100m acc      \u001b[0m \u001b[100m unacc    \u001b[0m \u001b[100m unacc    \u001b[0m \u001b[100m unacc     \u001b[0m \u001b[100m vgood    \u001b[0m \u001b[100m acc       \u001b[0m \u001b[100m acc      \u001b[0m  \u001b[100m unacc \u001b[0m   \u001b[100m good  \u001b[0m   \u001b[100m acc     \u001b[0m  \u001b[100m acc        \u001b[0m   \u001b[100m unacc    \u001b[0m  \u001b[100m unacc   \u001b[0m  \u001b[100m unacc   \u001b[0m \u001b[100m unacc   \u001b[0m \u001b[100m unacc   \u001b[0m \u001b[100m unacc   \u001b[0m \u001b[100m unacc   \u001b[0m  \u001b[100m unacc   \u001b[0m  \u001b[100m vgood    \u001b[0m \u001b[100m acc     \u001b[0m \u001b[100m unacc   \u001b[0m  \u001b[100m unacc   \u001b[0m   \u001b[100m unacc    \u001b[0m \u001b[100m unacc   \u001b[0m   \u001b[100m unacc   \u001b[0m  \u001b[100m unacc   \u001b[0m  \u001b[100m unacc   \u001b[0m  \u001b[100m unacc   \u001b[0m  \u001b[100m unacc    \u001b[0m  \u001b[100m unacc   \u001b[0m \n",
      "\u001b[100m ['big']  \u001b[0m  \u001b[100m ['med']  \u001b[0m \u001b[100m ['med']  \u001b[0m \u001b[100m ['big']  \u001b[0m \u001b[100m ['med']  \u001b[0m \u001b[100m ['big']  \u001b[0m \u001b[100m ['small'] \u001b[0m \u001b[100m ['big']  \u001b[0m \u001b[100m ['small'] \u001b[0m \u001b[100m ['med']  \u001b[0m  \u001b[100m ['2'] \u001b[0m   \u001b[100m ['4'] \u001b[0m   \u001b[100m ['55+'] \u001b[0m  \u001b[100m ['2', '3'] \u001b[0m   \u001b[100m ['high'] \u001b[0m  \u001b[100m ['low'] \u001b[0m  \u001b[100m ['low'] \u001b[0m \u001b[100m ['low'] \u001b[0m \u001b[100m ['med'] \u001b[0m \u001b[100m ['med'] \u001b[0m \u001b[100m ['low'] \u001b[0m  \u001b[100m ['low'] \u001b[0m  \u001b[100m ['high'] \u001b[0m \u001b[100m ['med'] \u001b[0m \u001b[100m ['low'] \u001b[0m  \u001b[100m ['med'] \u001b[0m   \u001b[100m ['high'] \u001b[0m \u001b[100m ['low'] \u001b[0m   \u001b[100m ['low'] \u001b[0m  \u001b[100m ['low'] \u001b[0m  \u001b[100m ['med'] \u001b[0m  \u001b[100m ['med'] \u001b[0m  \u001b[100m ['high'] \u001b[0m  \u001b[100m ['med'] \u001b[0m \n",
      "    |           |          |          |          |          |           |          |           |          |          |         |          |        ┌──┴───┐         |           |          |         |         |         |         |          |          |          |         |          |           |          |           |          |          |          |          |           |     \n",
      "  \u001b[100m None \u001b[0m      \u001b[100m None \u001b[0m     \u001b[100m None \u001b[0m     \u001b[100m None \u001b[0m    \u001b[100m None  \u001b[0m    \u001b[100m None  \u001b[0m     \u001b[100m None  \u001b[0m    \u001b[100m None  \u001b[0m      \u001b[100m None \u001b[0m     \u001b[100m None \u001b[0m    \u001b[100m None  \u001b[0m    \u001b[100m None \u001b[0m     \u001b[100m None \u001b[0m   \u001b[100m None \u001b[0m \u001b[100m None \u001b[0m   \u001b[100m None  \u001b[0m     \u001b[100m None  \u001b[0m    \u001b[100m None  \u001b[0m   \u001b[100m None  \u001b[0m   \u001b[100m None  \u001b[0m   \u001b[100m None  \u001b[0m   \u001b[100m None  \u001b[0m    \u001b[100m None  \u001b[0m    \u001b[100m None  \u001b[0m     \u001b[100m None \u001b[0m   \u001b[100m None  \u001b[0m    \u001b[100m None  \u001b[0m     \u001b[100m None  \u001b[0m    \u001b[100m None  \u001b[0m     \u001b[100m None  \u001b[0m    \u001b[100m None  \u001b[0m    \u001b[100m None  \u001b[0m    \u001b[100m None  \u001b[0m    \u001b[100m None  \u001b[0m     \u001b[100m None  \u001b[0m  \n",
      "  \u001b[100m acc  \u001b[0m      \u001b[100m acc  \u001b[0m     \u001b[100m acc  \u001b[0m     \u001b[100m acc  \u001b[0m    \u001b[100m unacc \u001b[0m    \u001b[100m unacc \u001b[0m     \u001b[100m unacc \u001b[0m    \u001b[100m vgood \u001b[0m      \u001b[100m acc  \u001b[0m     \u001b[100m acc  \u001b[0m    \u001b[100m unacc \u001b[0m    \u001b[100m good \u001b[0m     \u001b[100m acc  \u001b[0m   \u001b[100m acc  \u001b[0m \u001b[100m acc  \u001b[0m   \u001b[100m unacc \u001b[0m     \u001b[100m unacc \u001b[0m    \u001b[100m unacc \u001b[0m   \u001b[100m unacc \u001b[0m   \u001b[100m unacc \u001b[0m   \u001b[100m unacc \u001b[0m   \u001b[100m unacc \u001b[0m    \u001b[100m unacc \u001b[0m    \u001b[100m vgood \u001b[0m     \u001b[100m acc  \u001b[0m   \u001b[100m unacc \u001b[0m    \u001b[100m unacc \u001b[0m     \u001b[100m unacc \u001b[0m    \u001b[100m unacc \u001b[0m     \u001b[100m unacc \u001b[0m    \u001b[100m unacc \u001b[0m    \u001b[100m unacc \u001b[0m    \u001b[100m unacc \u001b[0m    \u001b[100m unacc \u001b[0m     \u001b[100m unacc \u001b[0m  \n",
      "  \u001b[100m []   \u001b[0m      \u001b[100m []   \u001b[0m     \u001b[100m []   \u001b[0m     \u001b[100m []   \u001b[0m    \u001b[100m []    \u001b[0m    \u001b[100m []    \u001b[0m     \u001b[100m []    \u001b[0m    \u001b[100m []    \u001b[0m      \u001b[100m []   \u001b[0m     \u001b[100m []   \u001b[0m    \u001b[100m []    \u001b[0m    \u001b[100m []   \u001b[0m     \u001b[100m []   \u001b[0m   \u001b[100m []   \u001b[0m \u001b[100m []   \u001b[0m   \u001b[100m []    \u001b[0m     \u001b[100m []    \u001b[0m    \u001b[100m []    \u001b[0m   \u001b[100m []    \u001b[0m   \u001b[100m []    \u001b[0m   \u001b[100m []    \u001b[0m   \u001b[100m []    \u001b[0m    \u001b[100m []    \u001b[0m    \u001b[100m []    \u001b[0m     \u001b[100m []   \u001b[0m   \u001b[100m []    \u001b[0m    \u001b[100m []    \u001b[0m     \u001b[100m []    \u001b[0m    \u001b[100m []    \u001b[0m     \u001b[100m []    \u001b[0m    \u001b[100m []    \u001b[0m    \u001b[100m []    \u001b[0m    \u001b[100m []    \u001b[0m    \u001b[100m []    \u001b[0m     \u001b[100m []    \u001b[0m\n"
     ]
    }
   ],
   "source": [
    "import parse\n",
    "import ID3\n",
    "import importlib\n",
    "import node\n",
    "from PrettyPrint import PrettyPrintTree\n",
    "\n",
    "examples = parse.parse(\"cars_test.data\")\n",
    "importlib.reload(ID3)\n",
    "importlib.reload(node)\n",
    "\n",
    "t = ID3.ID3(examples, 0)\n",
    "def print_tree(node):\n",
    "    print(node.decision_label)\n",
    "    level = ''\n",
    "    for k in node.children.keys():\n",
    "      level += (\"-\" + node.children[k].decision_label)\n",
    "    \n",
    "    print(level)\n",
    "    for k in node.children.keys():\n",
    "       print_tree(node.children[k])\n",
    "\n",
    "pt = PrettyPrintTree(lambda x: list(x.children.values()), lambda x: (str(x.decision_label) + \"\\n\" + str(x.label) + \"\\n\" + str(list(x.children.keys()))))\n",
    "pt(t)\n",
    "\n"
   ]
  },
  {
   "cell_type": "code",
   "execution_count": 127,
   "metadata": {},
   "outputs": [
    {
     "data": {
      "text/plain": [
       "'1'"
      ]
     },
     "execution_count": 127,
     "metadata": {},
     "output_type": "execute_result"
    }
   ],
   "source": [
    "examples = parse.parse(\"candy.data\").copy()\n",
    "e = parse.parse(\"candy.data\")[6]\n",
    "ID3.evaluate(ID3.ID3(examples, 0), e)"
   ]
  },
  {
   "cell_type": "code",
   "execution_count": 131,
   "metadata": {},
   "outputs": [
    {
     "name": "stdout",
     "output_type": "stream",
     "text": [
      "ID3 test 1 succeeded.\n",
      "ID3 test 2 succeeded.\n",
      "ID3 test 3-1 succeeded.\n",
      "ID3 test 3-2 succeeded.\n",
      "ID3 test 4 failed runtime error\n"
     ]
    }
   ],
   "source": [
    "mg.mini_grader()"
   ]
  }
 ],
 "metadata": {
  "kernelspec": {
   "display_name": "base",
   "language": "python",
   "name": "python3"
  },
  "language_info": {
   "codemirror_mode": {
    "name": "ipython",
    "version": 3
   },
   "file_extension": ".py",
   "mimetype": "text/x-python",
   "name": "python",
   "nbconvert_exporter": "python",
   "pygments_lexer": "ipython3",
   "version": "3.12.4"
  }
 },
 "nbformat": 4,
 "nbformat_minor": 2
}
